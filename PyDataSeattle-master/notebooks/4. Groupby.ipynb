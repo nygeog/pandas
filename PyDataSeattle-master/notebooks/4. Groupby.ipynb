{
 "cells": [
  {
   "cell_type": "code",
   "execution_count": 1,
   "metadata": {
    "collapsed": false
   },
   "outputs": [],
   "source": [
    "import re\n",
    "import glob\n",
    "import numpy as np\n",
    "import pandas as pd\n",
    "#import seaborn as sns\n",
    "import matplotlib.pyplot as plt\n",
    "%matplotlib inline\n",
    "\n",
    "pd.options.display.max_rows = 10\n",
    "plt.rcParams['figure.figsize'] = (12, 6)"
   ]
  },
  {
   "cell_type": "markdown",
   "metadata": {},
   "source": [
    "We'll use the same dataset of beer reviews."
   ]
  },
  {
   "cell_type": "code",
   "execution_count": 2,
   "metadata": {
    "collapsed": false
   },
   "outputs": [
    {
     "data": {
      "text/html": [
       "<div>\n",
       "<table border=\"1\" class=\"dataframe\">\n",
       "  <thead>\n",
       "    <tr style=\"text-align: right;\">\n",
       "      <th></th>\n",
       "      <th>abv</th>\n",
       "      <th>beer_id</th>\n",
       "      <th>brewer_id</th>\n",
       "      <th>beer_name</th>\n",
       "      <th>beer_style</th>\n",
       "      <th>review_appearance</th>\n",
       "      <th>review_aroma</th>\n",
       "      <th>review_overall</th>\n",
       "      <th>review_palate</th>\n",
       "      <th>profile_name</th>\n",
       "      <th>review_taste</th>\n",
       "      <th>text</th>\n",
       "      <th>time</th>\n",
       "    </tr>\n",
       "  </thead>\n",
       "  <tbody>\n",
       "    <tr>\n",
       "      <th>0</th>\n",
       "      <td>7.0</td>\n",
       "      <td>2511</td>\n",
       "      <td>287</td>\n",
       "      <td>Bell's Cherry Stout</td>\n",
       "      <td>American Stout</td>\n",
       "      <td>4.5</td>\n",
       "      <td>4</td>\n",
       "      <td>4.5</td>\n",
       "      <td>4.0</td>\n",
       "      <td>blaheath</td>\n",
       "      <td>4.5</td>\n",
       "      <td>Batch 8144\\tPitch black in color with a 1/2 f...</td>\n",
       "      <td>2009-10-05 21:31:48</td>\n",
       "    </tr>\n",
       "    <tr>\n",
       "      <th>1</th>\n",
       "      <td>5.7</td>\n",
       "      <td>19736</td>\n",
       "      <td>9790</td>\n",
       "      <td>Duck-Rabbit Porter</td>\n",
       "      <td>American Porter</td>\n",
       "      <td>4.5</td>\n",
       "      <td>4</td>\n",
       "      <td>4.5</td>\n",
       "      <td>4.0</td>\n",
       "      <td>GJ40</td>\n",
       "      <td>4.0</td>\n",
       "      <td>Sampled from a 12oz bottle in a standard pint...</td>\n",
       "      <td>2009-10-05 21:32:09</td>\n",
       "    </tr>\n",
       "    <tr>\n",
       "      <th>2</th>\n",
       "      <td>4.8</td>\n",
       "      <td>11098</td>\n",
       "      <td>3182</td>\n",
       "      <td>Fürstenberg Premium Pilsener</td>\n",
       "      <td>German Pilsener</td>\n",
       "      <td>4.0</td>\n",
       "      <td>3</td>\n",
       "      <td>3.0</td>\n",
       "      <td>3.0</td>\n",
       "      <td>biegaman</td>\n",
       "      <td>3.5</td>\n",
       "      <td>Haystack yellow with an energetic group of bu...</td>\n",
       "      <td>2009-10-05 21:32:13</td>\n",
       "    </tr>\n",
       "    <tr>\n",
       "      <th>3</th>\n",
       "      <td>9.5</td>\n",
       "      <td>28577</td>\n",
       "      <td>3818</td>\n",
       "      <td>Unearthly (Imperial India Pale Ale)</td>\n",
       "      <td>American Double / Imperial IPA</td>\n",
       "      <td>4.0</td>\n",
       "      <td>4</td>\n",
       "      <td>4.0</td>\n",
       "      <td>4.0</td>\n",
       "      <td>nick76</td>\n",
       "      <td>4.0</td>\n",
       "      <td>The aroma has pine, wood, citrus, caramel, an...</td>\n",
       "      <td>2009-10-05 21:32:37</td>\n",
       "    </tr>\n",
       "    <tr>\n",
       "      <th>4</th>\n",
       "      <td>5.8</td>\n",
       "      <td>398</td>\n",
       "      <td>119</td>\n",
       "      <td>Wolaver's Pale Ale</td>\n",
       "      <td>American Pale Ale (APA)</td>\n",
       "      <td>4.0</td>\n",
       "      <td>3</td>\n",
       "      <td>4.0</td>\n",
       "      <td>3.5</td>\n",
       "      <td>champ103</td>\n",
       "      <td>3.0</td>\n",
       "      <td>A: Pours a slightly hazy golden/orange color....</td>\n",
       "      <td>2009-10-05 21:33:14</td>\n",
       "    </tr>\n",
       "  </tbody>\n",
       "</table>\n",
       "</div>"
      ],
      "text/plain": [
       "   abv  beer_id  brewer_id                            beer_name  \\\n",
       "0  7.0     2511        287                  Bell's Cherry Stout   \n",
       "1  5.7    19736       9790                   Duck-Rabbit Porter   \n",
       "2  4.8    11098       3182         Fürstenberg Premium Pilsener   \n",
       "3  9.5    28577       3818  Unearthly (Imperial India Pale Ale)   \n",
       "4  5.8      398        119                   Wolaver's Pale Ale   \n",
       "\n",
       "                       beer_style  review_appearance  review_aroma  \\\n",
       "0                  American Stout                4.5             4   \n",
       "1                 American Porter                4.5             4   \n",
       "2                 German Pilsener                4.0             3   \n",
       "3  American Double / Imperial IPA                4.0             4   \n",
       "4         American Pale Ale (APA)                4.0             3   \n",
       "\n",
       "   review_overall  review_palate profile_name  review_taste  \\\n",
       "0             4.5            4.0     blaheath           4.5   \n",
       "1             4.5            4.0         GJ40           4.0   \n",
       "2             3.0            3.0     biegaman           3.5   \n",
       "3             4.0            4.0       nick76           4.0   \n",
       "4             4.0            3.5     champ103           3.0   \n",
       "\n",
       "                                                text                time  \n",
       "0   Batch 8144\\tPitch black in color with a 1/2 f... 2009-10-05 21:31:48  \n",
       "1   Sampled from a 12oz bottle in a standard pint... 2009-10-05 21:32:09  \n",
       "2   Haystack yellow with an energetic group of bu... 2009-10-05 21:32:13  \n",
       "3   The aroma has pine, wood, citrus, caramel, an... 2009-10-05 21:32:37  \n",
       "4   A: Pours a slightly hazy golden/orange color.... 2009-10-05 21:33:14  "
      ]
     },
     "execution_count": 2,
     "metadata": {},
     "output_type": "execute_result"
    }
   ],
   "source": [
    "df = pd.read_csv('data/beer_subset.csv.gz', parse_dates=['time'], compression='gzip')\n",
    "review_cols = ['review_appearance', 'review_aroma', 'review_overall',\n",
    "               'review_palate', 'review_taste']\n",
    "df.head()"
   ]
  },
  {
   "cell_type": "code",
   "execution_count": 3,
   "metadata": {
    "collapsed": false
   },
   "outputs": [
    {
     "data": {
      "text/plain": [
       "13014"
      ]
     },
     "execution_count": 3,
     "metadata": {},
     "output_type": "execute_result"
    }
   ],
   "source": [
    "df.beer_id.nunique()"
   ]
  },
  {
   "cell_type": "code",
   "execution_count": 4,
   "metadata": {
    "collapsed": false
   },
   "outputs": [
    {
     "data": {
      "text/plain": [
       "5990"
      ]
     },
     "execution_count": 4,
     "metadata": {},
     "output_type": "execute_result"
    }
   ],
   "source": [
    "df.profile_name.nunique()"
   ]
  },
  {
   "cell_type": "code",
   "execution_count": 5,
   "metadata": {
    "collapsed": false
   },
   "outputs": [
    {
     "data": {
      "image/png": "[encoded data removed]",
      "text/plain": [
       "<matplotlib.figure.Figure at 0x1066e4410>"
      ]
     },
     "metadata": {},
     "output_type": "display_data"
    }
   ],
   "source": [
    "df.beer_id.value_counts().plot(kind='hist', bins=10, color='k', log=True,\n",
    "                               title='Log reviews per beer');"
   ]
  },
  {
   "cell_type": "code",
   "execution_count": 6,
   "metadata": {
    "collapsed": false
   },
   "outputs": [
    {
     "data": {
      "image/png": "[encoded data removed]",
      "text/plain": [
       "<matplotlib.figure.Figure at 0x1066e4150>"
      ]
     },
     "metadata": {},
     "output_type": "display_data"
    }
   ],
   "source": [
    "ax = df.brewer_id.value_counts().plot(kind='hist', bins=15, color='k', log=True,\n",
    "                                      title='Log reviews per brewer');"
   ]
  },
  {
   "cell_type": "code",
   "execution_count": 7,
   "metadata": {
    "collapsed": false
   },
   "outputs": [
    {
     "data": {
      "image/png": "[encoded data removed]",
      "text/plain": [
       "<matplotlib.figure.Figure at 0x1032ab490>"
      ]
     },
     "metadata": {},
     "output_type": "display_data"
    }
   ],
   "source": [
    "df.profile_name.value_counts().plot(kind='hist', bins=15, color='k', log=True,\n",
    "                                    title='Log reviews per person');"
   ]
  },
  {
   "cell_type": "code",
   "execution_count": 8,
   "metadata": {
    "collapsed": false
   },
   "outputs": [
    {
     "data": {
      "image/png": "[encoded data removed]",
      "text/plain": [
       "<matplotlib.figure.Figure at 0x1159d3d90>"
      ]
     },
     "metadata": {},
     "output_type": "display_data"
    }
   ],
   "source": [
    "df.review_overall.value_counts().sort_index().plot(kind='bar', width=.8, rot=0);"
   ]
  },
  {
   "cell_type": "code",
   "execution_count": 10,
   "metadata": {
    "collapsed": false
   },
   "outputs": [
    {
     "ename": "NameError",
     "evalue": "name 'sns' is not defined",
     "output_type": "error",
     "traceback": [
      "\u001b[0;31m---------------------------------------------------------------------------\u001b[0m",
      "\u001b[0;31mNameError\u001b[0m                                 Traceback (most recent call last)",
      "\u001b[0;32m<ipython-input-10-3d11c50712f5>\u001b[0m in \u001b[0;36m<module>\u001b[0;34m()\u001b[0m\n\u001b[1;32m      1\u001b[0m \u001b[0mfig\u001b[0m\u001b[0;34m,\u001b[0m \u001b[0max\u001b[0m \u001b[0;34m=\u001b[0m \u001b[0mplt\u001b[0m\u001b[0;34m.\u001b[0m\u001b[0msubplots\u001b[0m\u001b[0;34m(\u001b[0m\u001b[0mfigsize\u001b[0m\u001b[0;34m=\u001b[0m\u001b[0;34m(\u001b[0m\u001b[0;36m5\u001b[0m\u001b[0;34m,\u001b[0m \u001b[0;36m10\u001b[0m\u001b[0;34m)\u001b[0m\u001b[0;34m)\u001b[0m\u001b[0;34m\u001b[0m\u001b[0m\n\u001b[0;32m----> 2\u001b[0;31m sns.countplot(hue='kind', y='stars', data=(df[review_cols]\n\u001b[0m\u001b[1;32m      3\u001b[0m                                            \u001b[0;34m.\u001b[0m\u001b[0mstack\u001b[0m\u001b[0;34m(\u001b[0m\u001b[0;34m)\u001b[0m\u001b[0;34m\u001b[0m\u001b[0m\n\u001b[1;32m      4\u001b[0m                                            \u001b[0;34m.\u001b[0m\u001b[0mreset_index\u001b[0m\u001b[0;34m(\u001b[0m\u001b[0mlevel\u001b[0m\u001b[0;34m=\u001b[0m\u001b[0;36m1\u001b[0m\u001b[0;34m)\u001b[0m\u001b[0;34m\u001b[0m\u001b[0m\n\u001b[1;32m      5\u001b[0m                                            .rename(columns={'level_1': 'kind',\n",
      "\u001b[0;31mNameError\u001b[0m: name 'sns' is not defined"
     ]
    },
    {
     "data": {
      "image/png": "[encoded data removed]",
      "text/plain": [
       "<matplotlib.figure.Figure at 0x10c418090>"
      ]
     },
     "metadata": {},
     "output_type": "display_data"
    }
   ],
   "source": [
    "fig, ax = plt.subplots(figsize=(5, 10))\n",
    "sns.countplot(hue='kind', y='stars', data=(df[review_cols]\n",
    "                                           .stack()\n",
    "                                           .reset_index(level=1)\n",
    "                                           .rename(columns={'level_1': 'kind',\n",
    "                                                            0: 'stars',})),\n",
    "              ax=ax, order=np.arange(0, 5.5, .5));"
   ]
  },
  {
   "cell_type": "markdown",
   "metadata": {},
   "source": [
    "# Groupby"
   ]
  },
  {
   "cell_type": "markdown",
   "metadata": {},
   "source": [
    "Groupby is a fundamental operation to pandas and data analysis.\n",
    "\n",
    "The components of a groupby operation are to\n",
    "\n",
    "1. Split a table into groups\n",
    "2. Apply a function to each groups\n",
    "3. Combine the results\n",
    "\n",
    "In pandas the first step looks like\n",
    "\n",
    "```python\n",
    "df.groupby( grouper )\n",
    "```\n",
    "\n",
    "`grouper` can be many things\n",
    "\n",
    "- Series (or string indicating a column in `df`)\n",
    "- function (to be applied on the index)\n",
    "- dict : groups by *values*\n",
    "- `levels=[]`, names of levels in a MultiIndex"
   ]
  },
  {
   "cell_type": "code",
   "execution_count": 12,
   "metadata": {
    "collapsed": false
   },
   "outputs": [
    {
     "data": {
      "text/plain": [
       "<pandas.core.groupby.DataFrameGroupBy object at 0x10c4a5d90>"
      ]
     },
     "execution_count": 12,
     "metadata": {},
     "output_type": "execute_result"
    }
   ],
   "source": [
    "gr = df.groupby('beer_style')\n",
    "gr"
   ]
  },
  {
   "cell_type": "markdown",
   "metadata": {},
   "source": [
    "Haven't really done anything yet. Just some book-keeping to figure out which **keys** go with which rows. Keys are the things we've grouped by (each `beer_style` in this case).\n",
    "\n",
    "The last two steps, apply and combine, are just:"
   ]
  },
  {
   "cell_type": "code",
   "execution_count": 13,
   "metadata": {
    "collapsed": false
   },
   "outputs": [
    {
     "data": {
      "text/html": [
       "<div>\n",
       "<table border=\"1\" class=\"dataframe\">\n",
       "  <thead>\n",
       "    <tr style=\"text-align: right;\">\n",
       "      <th></th>\n",
       "      <th>abv</th>\n",
       "      <th>beer_id</th>\n",
       "      <th>brewer_id</th>\n",
       "      <th>review_appearance</th>\n",
       "      <th>review_aroma</th>\n",
       "      <th>review_overall</th>\n",
       "      <th>review_palate</th>\n",
       "      <th>review_taste</th>\n",
       "    </tr>\n",
       "    <tr>\n",
       "      <th>beer_style</th>\n",
       "      <th></th>\n",
       "      <th></th>\n",
       "      <th></th>\n",
       "      <th></th>\n",
       "      <th></th>\n",
       "      <th></th>\n",
       "      <th></th>\n",
       "      <th></th>\n",
       "    </tr>\n",
       "  </thead>\n",
       "  <tbody>\n",
       "    <tr>\n",
       "      <th>Altbier</th>\n",
       "      <td>5.824369</td>\n",
       "      <td>27180.877301</td>\n",
       "      <td>4672.791411</td>\n",
       "      <td>3.819018</td>\n",
       "      <td>3.599693</td>\n",
       "      <td>3.774540</td>\n",
       "      <td>3.684049</td>\n",
       "      <td>3.696319</td>\n",
       "    </tr>\n",
       "    <tr>\n",
       "      <th>American Adjunct Lager</th>\n",
       "      <td>4.889320</td>\n",
       "      <td>9202.093117</td>\n",
       "      <td>1588.377193</td>\n",
       "      <td>2.802632</td>\n",
       "      <td>2.501012</td>\n",
       "      <td>3.088731</td>\n",
       "      <td>2.743252</td>\n",
       "      <td>2.705128</td>\n",
       "    </tr>\n",
       "    <tr>\n",
       "      <th>American Amber / Red Ale</th>\n",
       "      <td>6.224573</td>\n",
       "      <td>23036.901055</td>\n",
       "      <td>3450.877410</td>\n",
       "      <td>3.853947</td>\n",
       "      <td>3.675518</td>\n",
       "      <td>3.864496</td>\n",
       "      <td>3.712805</td>\n",
       "      <td>3.759913</td>\n",
       "    </tr>\n",
       "    <tr>\n",
       "      <th>American Amber / Red Lager</th>\n",
       "      <td>4.973025</td>\n",
       "      <td>25205.314563</td>\n",
       "      <td>7096.400000</td>\n",
       "      <td>3.566019</td>\n",
       "      <td>3.243689</td>\n",
       "      <td>3.600971</td>\n",
       "      <td>3.358252</td>\n",
       "      <td>3.408738</td>\n",
       "    </tr>\n",
       "    <tr>\n",
       "      <th>American Barleywine</th>\n",
       "      <td>10.726263</td>\n",
       "      <td>23309.185865</td>\n",
       "      <td>3049.765721</td>\n",
       "      <td>4.001948</td>\n",
       "      <td>4.000556</td>\n",
       "      <td>3.893434</td>\n",
       "      <td>3.971619</td>\n",
       "      <td>4.040345</td>\n",
       "    </tr>\n",
       "    <tr>\n",
       "      <th>...</th>\n",
       "      <td>...</td>\n",
       "      <td>...</td>\n",
       "      <td>...</td>\n",
       "      <td>...</td>\n",
       "      <td>...</td>\n",
       "      <td>...</td>\n",
       "      <td>...</td>\n",
       "      <td>...</td>\n",
       "    </tr>\n",
       "    <tr>\n",
       "      <th>Vienna Lager</th>\n",
       "      <td>5.186376</td>\n",
       "      <td>14034.549348</td>\n",
       "      <td>2368.122905</td>\n",
       "      <td>3.766294</td>\n",
       "      <td>3.459963</td>\n",
       "      <td>3.837989</td>\n",
       "      <td>3.620112</td>\n",
       "      <td>3.634078</td>\n",
       "    </tr>\n",
       "    <tr>\n",
       "      <th>Weizenbock</th>\n",
       "      <td>7.889529</td>\n",
       "      <td>27997.852252</td>\n",
       "      <td>1618.282883</td>\n",
       "      <td>4.027928</td>\n",
       "      <td>4.041441</td>\n",
       "      <td>4.084685</td>\n",
       "      <td>4.068468</td>\n",
       "      <td>4.111712</td>\n",
       "    </tr>\n",
       "    <tr>\n",
       "      <th>Wheatwine</th>\n",
       "      <td>11.072160</td>\n",
       "      <td>46881.403930</td>\n",
       "      <td>2000.454148</td>\n",
       "      <td>3.945415</td>\n",
       "      <td>4.056769</td>\n",
       "      <td>3.813319</td>\n",
       "      <td>4.004367</td>\n",
       "      <td>4.066594</td>\n",
       "    </tr>\n",
       "    <tr>\n",
       "      <th>Winter Warmer</th>\n",
       "      <td>6.573012</td>\n",
       "      <td>22849.504034</td>\n",
       "      <td>2661.158994</td>\n",
       "      <td>3.849075</td>\n",
       "      <td>3.716659</td>\n",
       "      <td>3.759848</td>\n",
       "      <td>3.694115</td>\n",
       "      <td>3.734457</td>\n",
       "    </tr>\n",
       "    <tr>\n",
       "      <th>Witbier</th>\n",
       "      <td>5.902119</td>\n",
       "      <td>28802.044147</td>\n",
       "      <td>3107.098328</td>\n",
       "      <td>3.647826</td>\n",
       "      <td>3.631773</td>\n",
       "      <td>3.755853</td>\n",
       "      <td>3.598328</td>\n",
       "      <td>3.631438</td>\n",
       "    </tr>\n",
       "  </tbody>\n",
       "</table>\n",
       "<p>104 rows × 8 columns</p>\n",
       "</div>"
      ],
      "text/plain": [
       "                                  abv       beer_id    brewer_id  \\\n",
       "beer_style                                                         \n",
       "Altbier                      5.824369  27180.877301  4672.791411   \n",
       "American Adjunct Lager       4.889320   9202.093117  1588.377193   \n",
       "American Amber / Red Ale     6.224573  23036.901055  3450.877410   \n",
       "American Amber / Red Lager   4.973025  25205.314563  7096.400000   \n",
       "American Barleywine         10.726263  23309.185865  3049.765721   \n",
       "...                               ...           ...          ...   \n",
       "Vienna Lager                 5.186376  14034.549348  2368.122905   \n",
       "Weizenbock                   7.889529  27997.852252  1618.282883   \n",
       "Wheatwine                   11.072160  46881.403930  2000.454148   \n",
       "Winter Warmer                6.573012  22849.504034  2661.158994   \n",
       "Witbier                      5.902119  28802.044147  3107.098328   \n",
       "\n",
       "                            review_appearance  review_aroma  review_overall  \\\n",
       "beer_style                                                                    \n",
       "Altbier                              3.819018      3.599693        3.774540   \n",
       "American Adjunct Lager               2.802632      2.501012        3.088731   \n",
       "American Amber / Red Ale             3.853947      3.675518        3.864496   \n",
       "American Amber / Red Lager           3.566019      3.243689        3.600971   \n",
       "American Barleywine                  4.001948      4.000556        3.893434   \n",
       "...                                       ...           ...             ...   \n",
       "Vienna Lager                         3.766294      3.459963        3.837989   \n",
       "Weizenbock                           4.027928      4.041441        4.084685   \n",
       "Wheatwine                            3.945415      4.056769        3.813319   \n",
       "Winter Warmer                        3.849075      3.716659        3.759848   \n",
       "Witbier                              3.647826      3.631773        3.755853   \n",
       "\n",
       "                            review_palate  review_taste  \n",
       "beer_style                                               \n",
       "Altbier                          3.684049      3.696319  \n",
       "American Adjunct Lager           2.743252      2.705128  \n",
       "American Amber / Red Ale         3.712805      3.759913  \n",
       "American Amber / Red Lager       3.358252      3.408738  \n",
       "American Barleywine              3.971619      4.040345  \n",
       "...                                   ...           ...  \n",
       "Vienna Lager                     3.620112      3.634078  \n",
       "Weizenbock                       4.068468      4.111712  \n",
       "Wheatwine                        4.004367      4.066594  \n",
       "Winter Warmer                    3.694115      3.734457  \n",
       "Witbier                          3.598328      3.631438  \n",
       "\n",
       "[104 rows x 8 columns]"
      ]
     },
     "execution_count": 13,
     "metadata": {},
     "output_type": "execute_result"
    }
   ],
   "source": [
    "gr.agg('mean')"
   ]
  },
  {
   "cell_type": "markdown",
   "metadata": {},
   "source": [
    "This says apply the `mean` function to each column. Non-numeric columns (nusiance columns) are excluded. We can also select a subset of columns to perform the aggregation on."
   ]
  },
  {
   "cell_type": "code",
   "execution_count": 14,
   "metadata": {
    "collapsed": false
   },
   "outputs": [
    {
     "data": {
      "text/html": [
       "<div>\n",
       "<table border=\"1\" class=\"dataframe\">\n",
       "  <thead>\n",
       "    <tr style=\"text-align: right;\">\n",
       "      <th></th>\n",
       "      <th>review_appearance</th>\n",
       "      <th>review_aroma</th>\n",
       "      <th>review_overall</th>\n",
       "      <th>review_palate</th>\n",
       "      <th>review_taste</th>\n",
       "    </tr>\n",
       "    <tr>\n",
       "      <th>beer_style</th>\n",
       "      <th></th>\n",
       "      <th></th>\n",
       "      <th></th>\n",
       "      <th></th>\n",
       "      <th></th>\n",
       "    </tr>\n",
       "  </thead>\n",
       "  <tbody>\n",
       "    <tr>\n",
       "      <th>Altbier</th>\n",
       "      <td>3.819018</td>\n",
       "      <td>3.599693</td>\n",
       "      <td>3.774540</td>\n",
       "      <td>3.684049</td>\n",
       "      <td>3.696319</td>\n",
       "    </tr>\n",
       "    <tr>\n",
       "      <th>American Adjunct Lager</th>\n",
       "      <td>2.802632</td>\n",
       "      <td>2.501012</td>\n",
       "      <td>3.088731</td>\n",
       "      <td>2.743252</td>\n",
       "      <td>2.705128</td>\n",
       "    </tr>\n",
       "    <tr>\n",
       "      <th>American Amber / Red Ale</th>\n",
       "      <td>3.853947</td>\n",
       "      <td>3.675518</td>\n",
       "      <td>3.864496</td>\n",
       "      <td>3.712805</td>\n",
       "      <td>3.759913</td>\n",
       "    </tr>\n",
       "    <tr>\n",
       "      <th>American Amber / Red Lager</th>\n",
       "      <td>3.566019</td>\n",
       "      <td>3.243689</td>\n",
       "      <td>3.600971</td>\n",
       "      <td>3.358252</td>\n",
       "      <td>3.408738</td>\n",
       "    </tr>\n",
       "    <tr>\n",
       "      <th>American Barleywine</th>\n",
       "      <td>4.001948</td>\n",
       "      <td>4.000556</td>\n",
       "      <td>3.893434</td>\n",
       "      <td>3.971619</td>\n",
       "      <td>4.040345</td>\n",
       "    </tr>\n",
       "    <tr>\n",
       "      <th>...</th>\n",
       "      <td>...</td>\n",
       "      <td>...</td>\n",
       "      <td>...</td>\n",
       "      <td>...</td>\n",
       "      <td>...</td>\n",
       "    </tr>\n",
       "    <tr>\n",
       "      <th>Vienna Lager</th>\n",
       "      <td>3.766294</td>\n",
       "      <td>3.459963</td>\n",
       "      <td>3.837989</td>\n",
       "      <td>3.620112</td>\n",
       "      <td>3.634078</td>\n",
       "    </tr>\n",
       "    <tr>\n",
       "      <th>Weizenbock</th>\n",
       "      <td>4.027928</td>\n",
       "      <td>4.041441</td>\n",
       "      <td>4.084685</td>\n",
       "      <td>4.068468</td>\n",
       "      <td>4.111712</td>\n",
       "    </tr>\n",
       "    <tr>\n",
       "      <th>Wheatwine</th>\n",
       "      <td>3.945415</td>\n",
       "      <td>4.056769</td>\n",
       "      <td>3.813319</td>\n",
       "      <td>4.004367</td>\n",
       "      <td>4.066594</td>\n",
       "    </tr>\n",
       "    <tr>\n",
       "      <th>Winter Warmer</th>\n",
       "      <td>3.849075</td>\n",
       "      <td>3.716659</td>\n",
       "      <td>3.759848</td>\n",
       "      <td>3.694115</td>\n",
       "      <td>3.734457</td>\n",
       "    </tr>\n",
       "    <tr>\n",
       "      <th>Witbier</th>\n",
       "      <td>3.647826</td>\n",
       "      <td>3.631773</td>\n",
       "      <td>3.755853</td>\n",
       "      <td>3.598328</td>\n",
       "      <td>3.631438</td>\n",
       "    </tr>\n",
       "  </tbody>\n",
       "</table>\n",
       "<p>104 rows × 5 columns</p>\n",
       "</div>"
      ],
      "text/plain": [
       "                            review_appearance  review_aroma  review_overall  \\\n",
       "beer_style                                                                    \n",
       "Altbier                              3.819018      3.599693        3.774540   \n",
       "American Adjunct Lager               2.802632      2.501012        3.088731   \n",
       "American Amber / Red Ale             3.853947      3.675518        3.864496   \n",
       "American Amber / Red Lager           3.566019      3.243689        3.600971   \n",
       "American Barleywine                  4.001948      4.000556        3.893434   \n",
       "...                                       ...           ...             ...   \n",
       "Vienna Lager                         3.766294      3.459963        3.837989   \n",
       "Weizenbock                           4.027928      4.041441        4.084685   \n",
       "Wheatwine                            3.945415      4.056769        3.813319   \n",
       "Winter Warmer                        3.849075      3.716659        3.759848   \n",
       "Witbier                              3.647826      3.631773        3.755853   \n",
       "\n",
       "                            review_palate  review_taste  \n",
       "beer_style                                               \n",
       "Altbier                          3.684049      3.696319  \n",
       "American Adjunct Lager           2.743252      2.705128  \n",
       "American Amber / Red Ale         3.712805      3.759913  \n",
       "American Amber / Red Lager       3.358252      3.408738  \n",
       "American Barleywine              3.971619      4.040345  \n",
       "...                                   ...           ...  \n",
       "Vienna Lager                     3.620112      3.634078  \n",
       "Weizenbock                       4.068468      4.111712  \n",
       "Wheatwine                        4.004367      4.066594  \n",
       "Winter Warmer                    3.694115      3.734457  \n",
       "Witbier                          3.598328      3.631438  \n",
       "\n",
       "[104 rows x 5 columns]"
      ]
     },
     "execution_count": 14,
     "metadata": {},
     "output_type": "execute_result"
    }
   ],
   "source": [
    "gr[review_cols].agg('mean')"
   ]
  },
  {
   "cell_type": "markdown",
   "metadata": {},
   "source": [
    "`.` attribute lookup works as well."
   ]
  },
  {
   "cell_type": "code",
   "execution_count": 15,
   "metadata": {
    "collapsed": false
   },
   "outputs": [
    {
     "data": {
      "text/plain": [
       "beer_style\n",
       "Altbier                        5.824369\n",
       "American Adjunct Lager         4.889320\n",
       "American Amber / Red Ale       6.224573\n",
       "American Amber / Red Lager     4.973025\n",
       "American Barleywine           10.726263\n",
       "                                ...    \n",
       "Vienna Lager                   5.186376\n",
       "Weizenbock                     7.889529\n",
       "Wheatwine                     11.072160\n",
       "Winter Warmer                  6.573012\n",
       "Witbier                        5.902119\n",
       "Name: abv, dtype: float64"
      ]
     },
     "execution_count": 15,
     "metadata": {},
     "output_type": "execute_result"
    }
   ],
   "source": [
    "gr.abv.agg('mean')"
   ]
  },
  {
   "cell_type": "markdown",
   "metadata": {},
   "source": [
    "Certain operations are attached directly to the `GroupBy` object, letting you bypass the `.agg` part"
   ]
  },
  {
   "cell_type": "code",
   "execution_count": 16,
   "metadata": {
    "collapsed": false
   },
   "outputs": [
    {
     "data": {
      "text/plain": [
       "beer_style\n",
       "Altbier                        5.824369\n",
       "American Adjunct Lager         4.889320\n",
       "American Amber / Red Ale       6.224573\n",
       "American Amber / Red Lager     4.973025\n",
       "American Barleywine           10.726263\n",
       "                                ...    \n",
       "Vienna Lager                   5.186376\n",
       "Weizenbock                     7.889529\n",
       "Wheatwine                     11.072160\n",
       "Winter Warmer                  6.573012\n",
       "Witbier                        5.902119\n",
       "Name: abv, dtype: float64"
      ]
     },
     "execution_count": 16,
     "metadata": {},
     "output_type": "execute_result"
    }
   ],
   "source": [
    "gr.abv.mean()"
   ]
  },
  {
   "cell_type": "markdown",
   "metadata": {},
   "source": [
    "Exercise: Find the `beer_style`s with the greatest variance in `abv`.\n",
    "\n",
    "- hint: `.std` calculates the standard deviation, and is available on `GroupBy` objects like `gr.abv`.\n",
    "- hint: use `.order` to sort a Series"
   ]
  },
  {
   "cell_type": "code",
   "execution_count": 17,
   "metadata": {
    "collapsed": true
   },
   "outputs": [],
   "source": [
    "# your code goes here"
   ]
  },
  {
   "cell_type": "code",
   "execution_count": null,
   "metadata": {
    "collapsed": false
   },
   "outputs": [],
   "source": [
    "# %load -r 15:17 solutions_groupby.py\n",
    "# Find the `beer_style` with the greatest variance in `abv`.\n",
    "df.groupby('beer_style').abv.std().order(ascending=False)"
   ]
  },
  {
   "cell_type": "markdown",
   "metadata": {},
   "source": [
    "Now we'll run the gamut on a bunch of grouper / apply combinations.\n",
    "Keep sight of the target though: split, apply, combine.\n",
    "\n",
    "Single grouper, multiple aggregtaions:"
   ]
  },
  {
   "cell_type": "markdown",
   "metadata": {},
   "source": [
    "Multiple Aggregations on one column"
   ]
  },
  {
   "cell_type": "code",
   "execution_count": 19,
   "metadata": {
    "collapsed": false
   },
   "outputs": [
    {
     "data": {
      "text/html": [
       "<div>\n",
       "<table border=\"1\" class=\"dataframe\">\n",
       "  <thead>\n",
       "    <tr style=\"text-align: right;\">\n",
       "      <th></th>\n",
       "      <th>mean</th>\n",
       "      <th>std</th>\n",
       "      <th>count</th>\n",
       "    </tr>\n",
       "    <tr>\n",
       "      <th>beer_style</th>\n",
       "      <th></th>\n",
       "      <th></th>\n",
       "      <th></th>\n",
       "    </tr>\n",
       "  </thead>\n",
       "  <tbody>\n",
       "    <tr>\n",
       "      <th>Altbier</th>\n",
       "      <td>3.599693</td>\n",
       "      <td>0.568426</td>\n",
       "      <td>326</td>\n",
       "    </tr>\n",
       "    <tr>\n",
       "      <th>American Adjunct Lager</th>\n",
       "      <td>2.501012</td>\n",
       "      <td>0.720936</td>\n",
       "      <td>1482</td>\n",
       "    </tr>\n",
       "    <tr>\n",
       "      <th>American Amber / Red Ale</th>\n",
       "      <td>3.675518</td>\n",
       "      <td>0.626926</td>\n",
       "      <td>2749</td>\n",
       "    </tr>\n",
       "    <tr>\n",
       "      <th>American Amber / Red Lager</th>\n",
       "      <td>3.243689</td>\n",
       "      <td>0.613034</td>\n",
       "      <td>515</td>\n",
       "    </tr>\n",
       "    <tr>\n",
       "      <th>American Barleywine</th>\n",
       "      <td>4.000556</td>\n",
       "      <td>0.514814</td>\n",
       "      <td>1797</td>\n",
       "    </tr>\n",
       "  </tbody>\n",
       "</table>\n",
       "</div>"
      ],
      "text/plain": [
       "                                mean       std  count\n",
       "beer_style                                           \n",
       "Altbier                     3.599693  0.568426    326\n",
       "American Adjunct Lager      2.501012  0.720936   1482\n",
       "American Amber / Red Ale    3.675518  0.626926   2749\n",
       "American Amber / Red Lager  3.243689  0.613034    515\n",
       "American Barleywine         4.000556  0.514814   1797"
      ]
     },
     "execution_count": 19,
     "metadata": {},
     "output_type": "execute_result"
    }
   ],
   "source": [
    "gr['review_aroma'].agg([np.mean, np.std, 'count']).head()"
   ]
  },
  {
   "cell_type": "markdown",
   "metadata": {},
   "source": [
    "Single Aggregation on multiple columns"
   ]
  },
  {
   "cell_type": "code",
   "execution_count": 20,
   "metadata": {
    "collapsed": false
   },
   "outputs": [
    {
     "data": {
      "text/html": [
       "<div>\n",
       "<table border=\"1\" class=\"dataframe\">\n",
       "  <thead>\n",
       "    <tr style=\"text-align: right;\">\n",
       "      <th></th>\n",
       "      <th>review_appearance</th>\n",
       "      <th>review_aroma</th>\n",
       "      <th>review_overall</th>\n",
       "      <th>review_palate</th>\n",
       "      <th>review_taste</th>\n",
       "    </tr>\n",
       "    <tr>\n",
       "      <th>beer_style</th>\n",
       "      <th></th>\n",
       "      <th></th>\n",
       "      <th></th>\n",
       "      <th></th>\n",
       "      <th></th>\n",
       "    </tr>\n",
       "  </thead>\n",
       "  <tbody>\n",
       "    <tr>\n",
       "      <th>Altbier</th>\n",
       "      <td>3.819018</td>\n",
       "      <td>3.599693</td>\n",
       "      <td>3.774540</td>\n",
       "      <td>3.684049</td>\n",
       "      <td>3.696319</td>\n",
       "    </tr>\n",
       "    <tr>\n",
       "      <th>American Adjunct Lager</th>\n",
       "      <td>2.802632</td>\n",
       "      <td>2.501012</td>\n",
       "      <td>3.088731</td>\n",
       "      <td>2.743252</td>\n",
       "      <td>2.705128</td>\n",
       "    </tr>\n",
       "    <tr>\n",
       "      <th>American Amber / Red Ale</th>\n",
       "      <td>3.853947</td>\n",
       "      <td>3.675518</td>\n",
       "      <td>3.864496</td>\n",
       "      <td>3.712805</td>\n",
       "      <td>3.759913</td>\n",
       "    </tr>\n",
       "    <tr>\n",
       "      <th>American Amber / Red Lager</th>\n",
       "      <td>3.566019</td>\n",
       "      <td>3.243689</td>\n",
       "      <td>3.600971</td>\n",
       "      <td>3.358252</td>\n",
       "      <td>3.408738</td>\n",
       "    </tr>\n",
       "    <tr>\n",
       "      <th>American Barleywine</th>\n",
       "      <td>4.001948</td>\n",
       "      <td>4.000556</td>\n",
       "      <td>3.893434</td>\n",
       "      <td>3.971619</td>\n",
       "      <td>4.040345</td>\n",
       "    </tr>\n",
       "    <tr>\n",
       "      <th>...</th>\n",
       "      <td>...</td>\n",
       "      <td>...</td>\n",
       "      <td>...</td>\n",
       "      <td>...</td>\n",
       "      <td>...</td>\n",
       "    </tr>\n",
       "    <tr>\n",
       "      <th>Vienna Lager</th>\n",
       "      <td>3.766294</td>\n",
       "      <td>3.459963</td>\n",
       "      <td>3.837989</td>\n",
       "      <td>3.620112</td>\n",
       "      <td>3.634078</td>\n",
       "    </tr>\n",
       "    <tr>\n",
       "      <th>Weizenbock</th>\n",
       "      <td>4.027928</td>\n",
       "      <td>4.041441</td>\n",
       "      <td>4.084685</td>\n",
       "      <td>4.068468</td>\n",
       "      <td>4.111712</td>\n",
       "    </tr>\n",
       "    <tr>\n",
       "      <th>Wheatwine</th>\n",
       "      <td>3.945415</td>\n",
       "      <td>4.056769</td>\n",
       "      <td>3.813319</td>\n",
       "      <td>4.004367</td>\n",
       "      <td>4.066594</td>\n",
       "    </tr>\n",
       "    <tr>\n",
       "      <th>Winter Warmer</th>\n",
       "      <td>3.849075</td>\n",
       "      <td>3.716659</td>\n",
       "      <td>3.759848</td>\n",
       "      <td>3.694115</td>\n",
       "      <td>3.734457</td>\n",
       "    </tr>\n",
       "    <tr>\n",
       "      <th>Witbier</th>\n",
       "      <td>3.647826</td>\n",
       "      <td>3.631773</td>\n",
       "      <td>3.755853</td>\n",
       "      <td>3.598328</td>\n",
       "      <td>3.631438</td>\n",
       "    </tr>\n",
       "  </tbody>\n",
       "</table>\n",
       "<p>104 rows × 5 columns</p>\n",
       "</div>"
      ],
      "text/plain": [
       "                            review_appearance  review_aroma  review_overall  \\\n",
       "beer_style                                                                    \n",
       "Altbier                              3.819018      3.599693        3.774540   \n",
       "American Adjunct Lager               2.802632      2.501012        3.088731   \n",
       "American Amber / Red Ale             3.853947      3.675518        3.864496   \n",
       "American Amber / Red Lager           3.566019      3.243689        3.600971   \n",
       "American Barleywine                  4.001948      4.000556        3.893434   \n",
       "...                                       ...           ...             ...   \n",
       "Vienna Lager                         3.766294      3.459963        3.837989   \n",
       "Weizenbock                           4.027928      4.041441        4.084685   \n",
       "Wheatwine                            3.945415      4.056769        3.813319   \n",
       "Winter Warmer                        3.849075      3.716659        3.759848   \n",
       "Witbier                              3.647826      3.631773        3.755853   \n",
       "\n",
       "                            review_palate  review_taste  \n",
       "beer_style                                               \n",
       "Altbier                          3.684049      3.696319  \n",
       "American Adjunct Lager           2.743252      2.705128  \n",
       "American Amber / Red Ale         3.712805      3.759913  \n",
       "American Amber / Red Lager       3.358252      3.408738  \n",
       "American Barleywine              3.971619      4.040345  \n",
       "...                                   ...           ...  \n",
       "Vienna Lager                     3.620112      3.634078  \n",
       "Weizenbock                       4.068468      4.111712  \n",
       "Wheatwine                        4.004367      4.066594  \n",
       "Winter Warmer                    3.694115      3.734457  \n",
       "Witbier                          3.598328      3.631438  \n",
       "\n",
       "[104 rows x 5 columns]"
      ]
     },
     "execution_count": 20,
     "metadata": {},
     "output_type": "execute_result"
    }
   ],
   "source": [
    "gr[review_cols].mean()"
   ]
  },
  {
   "cell_type": "markdown",
   "metadata": {
    "collapsed": true
   },
   "source": [
    "Multiple aggregations on multiple columns"
   ]
  },
  {
   "cell_type": "code",
   "execution_count": 21,
   "metadata": {
    "collapsed": false
   },
   "outputs": [
    {
     "data": {
      "text/html": [
       "<div>\n",
       "<table border=\"1\" class=\"dataframe\">\n",
       "  <thead>\n",
       "    <tr>\n",
       "      <th></th>\n",
       "      <th colspan=\"3\" halign=\"left\">review_appearance</th>\n",
       "      <th colspan=\"3\" halign=\"left\">review_aroma</th>\n",
       "      <th colspan=\"3\" halign=\"left\">review_overall</th>\n",
       "      <th colspan=\"3\" halign=\"left\">review_palate</th>\n",
       "      <th colspan=\"3\" halign=\"left\">review_taste</th>\n",
       "    </tr>\n",
       "    <tr>\n",
       "      <th></th>\n",
       "      <th>mean</th>\n",
       "      <th>count</th>\n",
       "      <th>std</th>\n",
       "      <th>mean</th>\n",
       "      <th>count</th>\n",
       "      <th>std</th>\n",
       "      <th>mean</th>\n",
       "      <th>count</th>\n",
       "      <th>std</th>\n",
       "      <th>mean</th>\n",
       "      <th>count</th>\n",
       "      <th>std</th>\n",
       "      <th>mean</th>\n",
       "      <th>count</th>\n",
       "      <th>std</th>\n",
       "    </tr>\n",
       "    <tr>\n",
       "      <th>beer_style</th>\n",
       "      <th></th>\n",
       "      <th></th>\n",
       "      <th></th>\n",
       "      <th></th>\n",
       "      <th></th>\n",
       "      <th></th>\n",
       "      <th></th>\n",
       "      <th></th>\n",
       "      <th></th>\n",
       "      <th></th>\n",
       "      <th></th>\n",
       "      <th></th>\n",
       "      <th></th>\n",
       "      <th></th>\n",
       "      <th></th>\n",
       "    </tr>\n",
       "  </thead>\n",
       "  <tbody>\n",
       "    <tr>\n",
       "      <th>Altbier</th>\n",
       "      <td>3.819018</td>\n",
       "      <td>326</td>\n",
       "      <td>0.559731</td>\n",
       "      <td>3.599693</td>\n",
       "      <td>326</td>\n",
       "      <td>0.568426</td>\n",
       "      <td>3.774540</td>\n",
       "      <td>326</td>\n",
       "      <td>0.676367</td>\n",
       "      <td>3.684049</td>\n",
       "      <td>326</td>\n",
       "      <td>0.601171</td>\n",
       "      <td>3.696319</td>\n",
       "      <td>326</td>\n",
       "      <td>0.624957</td>\n",
       "    </tr>\n",
       "    <tr>\n",
       "      <th>American Adjunct Lager</th>\n",
       "      <td>2.802632</td>\n",
       "      <td>1482</td>\n",
       "      <td>0.750881</td>\n",
       "      <td>2.501012</td>\n",
       "      <td>1482</td>\n",
       "      <td>0.720936</td>\n",
       "      <td>3.088731</td>\n",
       "      <td>1482</td>\n",
       "      <td>0.961824</td>\n",
       "      <td>2.743252</td>\n",
       "      <td>1482</td>\n",
       "      <td>0.777189</td>\n",
       "      <td>2.705128</td>\n",
       "      <td>1482</td>\n",
       "      <td>0.813102</td>\n",
       "    </tr>\n",
       "    <tr>\n",
       "      <th>American Amber / Red Ale</th>\n",
       "      <td>3.853947</td>\n",
       "      <td>2749</td>\n",
       "      <td>0.532465</td>\n",
       "      <td>3.675518</td>\n",
       "      <td>2749</td>\n",
       "      <td>0.626926</td>\n",
       "      <td>3.864496</td>\n",
       "      <td>2749</td>\n",
       "      <td>0.649929</td>\n",
       "      <td>3.712805</td>\n",
       "      <td>2749</td>\n",
       "      <td>0.592133</td>\n",
       "      <td>3.759913</td>\n",
       "      <td>2749</td>\n",
       "      <td>0.651262</td>\n",
       "    </tr>\n",
       "    <tr>\n",
       "      <th>American Amber / Red Lager</th>\n",
       "      <td>3.566019</td>\n",
       "      <td>515</td>\n",
       "      <td>0.601159</td>\n",
       "      <td>3.243689</td>\n",
       "      <td>515</td>\n",
       "      <td>0.613034</td>\n",
       "      <td>3.600971</td>\n",
       "      <td>515</td>\n",
       "      <td>0.768101</td>\n",
       "      <td>3.358252</td>\n",
       "      <td>515</td>\n",
       "      <td>0.624799</td>\n",
       "      <td>3.408738</td>\n",
       "      <td>515</td>\n",
       "      <td>0.699792</td>\n",
       "    </tr>\n",
       "    <tr>\n",
       "      <th>American Barleywine</th>\n",
       "      <td>4.001948</td>\n",
       "      <td>1797</td>\n",
       "      <td>0.495381</td>\n",
       "      <td>4.000556</td>\n",
       "      <td>1797</td>\n",
       "      <td>0.514814</td>\n",
       "      <td>3.893434</td>\n",
       "      <td>1797</td>\n",
       "      <td>0.594070</td>\n",
       "      <td>3.971619</td>\n",
       "      <td>1797</td>\n",
       "      <td>0.538368</td>\n",
       "      <td>4.040345</td>\n",
       "      <td>1797</td>\n",
       "      <td>0.555808</td>\n",
       "    </tr>\n",
       "    <tr>\n",
       "      <th>...</th>\n",
       "      <td>...</td>\n",
       "      <td>...</td>\n",
       "      <td>...</td>\n",
       "      <td>...</td>\n",
       "      <td>...</td>\n",
       "      <td>...</td>\n",
       "      <td>...</td>\n",
       "      <td>...</td>\n",
       "      <td>...</td>\n",
       "      <td>...</td>\n",
       "      <td>...</td>\n",
       "      <td>...</td>\n",
       "      <td>...</td>\n",
       "      <td>...</td>\n",
       "      <td>...</td>\n",
       "    </tr>\n",
       "    <tr>\n",
       "      <th>Vienna Lager</th>\n",
       "      <td>3.766294</td>\n",
       "      <td>537</td>\n",
       "      <td>0.584182</td>\n",
       "      <td>3.459963</td>\n",
       "      <td>537</td>\n",
       "      <td>0.620528</td>\n",
       "      <td>3.837989</td>\n",
       "      <td>537</td>\n",
       "      <td>0.702348</td>\n",
       "      <td>3.620112</td>\n",
       "      <td>537</td>\n",
       "      <td>0.619194</td>\n",
       "      <td>3.634078</td>\n",
       "      <td>537</td>\n",
       "      <td>0.667539</td>\n",
       "    </tr>\n",
       "    <tr>\n",
       "      <th>Weizenbock</th>\n",
       "      <td>4.027928</td>\n",
       "      <td>555</td>\n",
       "      <td>0.510392</td>\n",
       "      <td>4.041441</td>\n",
       "      <td>555</td>\n",
       "      <td>0.481699</td>\n",
       "      <td>4.084685</td>\n",
       "      <td>555</td>\n",
       "      <td>0.586429</td>\n",
       "      <td>4.068468</td>\n",
       "      <td>555</td>\n",
       "      <td>0.511419</td>\n",
       "      <td>4.111712</td>\n",
       "      <td>555</td>\n",
       "      <td>0.518735</td>\n",
       "    </tr>\n",
       "    <tr>\n",
       "      <th>Wheatwine</th>\n",
       "      <td>3.945415</td>\n",
       "      <td>458</td>\n",
       "      <td>0.493138</td>\n",
       "      <td>4.056769</td>\n",
       "      <td>458</td>\n",
       "      <td>0.548569</td>\n",
       "      <td>3.813319</td>\n",
       "      <td>458</td>\n",
       "      <td>0.650347</td>\n",
       "      <td>4.004367</td>\n",
       "      <td>458</td>\n",
       "      <td>0.600859</td>\n",
       "      <td>4.066594</td>\n",
       "      <td>458</td>\n",
       "      <td>0.612987</td>\n",
       "    </tr>\n",
       "    <tr>\n",
       "      <th>Winter Warmer</th>\n",
       "      <td>3.849075</td>\n",
       "      <td>2107</td>\n",
       "      <td>0.493310</td>\n",
       "      <td>3.716659</td>\n",
       "      <td>2107</td>\n",
       "      <td>0.571915</td>\n",
       "      <td>3.759848</td>\n",
       "      <td>2107</td>\n",
       "      <td>0.631923</td>\n",
       "      <td>3.694115</td>\n",
       "      <td>2107</td>\n",
       "      <td>0.576365</td>\n",
       "      <td>3.734457</td>\n",
       "      <td>2107</td>\n",
       "      <td>0.627473</td>\n",
       "    </tr>\n",
       "    <tr>\n",
       "      <th>Witbier</th>\n",
       "      <td>3.647826</td>\n",
       "      <td>1495</td>\n",
       "      <td>0.591286</td>\n",
       "      <td>3.631773</td>\n",
       "      <td>1495</td>\n",
       "      <td>0.599275</td>\n",
       "      <td>3.755853</td>\n",
       "      <td>1495</td>\n",
       "      <td>0.717391</td>\n",
       "      <td>3.598328</td>\n",
       "      <td>1495</td>\n",
       "      <td>0.622560</td>\n",
       "      <td>3.631438</td>\n",
       "      <td>1495</td>\n",
       "      <td>0.674364</td>\n",
       "    </tr>\n",
       "  </tbody>\n",
       "</table>\n",
       "<p>104 rows × 15 columns</p>\n",
       "</div>"
      ],
      "text/plain": [
       "                           review_appearance                 review_aroma  \\\n",
       "                                        mean count       std         mean   \n",
       "beer_style                                                                  \n",
       "Altbier                             3.819018   326  0.559731     3.599693   \n",
       "American Adjunct Lager              2.802632  1482  0.750881     2.501012   \n",
       "American Amber / Red Ale            3.853947  2749  0.532465     3.675518   \n",
       "American Amber / Red Lager          3.566019   515  0.601159     3.243689   \n",
       "American Barleywine                 4.001948  1797  0.495381     4.000556   \n",
       "...                                      ...   ...       ...          ...   \n",
       "Vienna Lager                        3.766294   537  0.584182     3.459963   \n",
       "Weizenbock                          4.027928   555  0.510392     4.041441   \n",
       "Wheatwine                           3.945415   458  0.493138     4.056769   \n",
       "Winter Warmer                       3.849075  2107  0.493310     3.716659   \n",
       "Witbier                             3.647826  1495  0.591286     3.631773   \n",
       "\n",
       "                                           review_overall                  \\\n",
       "                           count       std           mean count       std   \n",
       "beer_style                                                                  \n",
       "Altbier                      326  0.568426       3.774540   326  0.676367   \n",
       "American Adjunct Lager      1482  0.720936       3.088731  1482  0.961824   \n",
       "American Amber / Red Ale    2749  0.626926       3.864496  2749  0.649929   \n",
       "American Amber / Red Lager   515  0.613034       3.600971   515  0.768101   \n",
       "American Barleywine         1797  0.514814       3.893434  1797  0.594070   \n",
       "...                          ...       ...            ...   ...       ...   \n",
       "Vienna Lager                 537  0.620528       3.837989   537  0.702348   \n",
       "Weizenbock                   555  0.481699       4.084685   555  0.586429   \n",
       "Wheatwine                    458  0.548569       3.813319   458  0.650347   \n",
       "Winter Warmer               2107  0.571915       3.759848  2107  0.631923   \n",
       "Witbier                     1495  0.599275       3.755853  1495  0.717391   \n",
       "\n",
       "                           review_palate                 review_taste        \\\n",
       "                                    mean count       std         mean count   \n",
       "beer_style                                                                    \n",
       "Altbier                         3.684049   326  0.601171     3.696319   326   \n",
       "American Adjunct Lager          2.743252  1482  0.777189     2.705128  1482   \n",
       "American Amber / Red Ale        3.712805  2749  0.592133     3.759913  2749   \n",
       "American Amber / Red Lager      3.358252   515  0.624799     3.408738   515   \n",
       "American Barleywine             3.971619  1797  0.538368     4.040345  1797   \n",
       "...                                  ...   ...       ...          ...   ...   \n",
       "Vienna Lager                    3.620112   537  0.619194     3.634078   537   \n",
       "Weizenbock                      4.068468   555  0.511419     4.111712   555   \n",
       "Wheatwine                       4.004367   458  0.600859     4.066594   458   \n",
       "Winter Warmer                   3.694115  2107  0.576365     3.734457  2107   \n",
       "Witbier                         3.598328  1495  0.622560     3.631438  1495   \n",
       "\n",
       "                                      \n",
       "                                 std  \n",
       "beer_style                            \n",
       "Altbier                     0.624957  \n",
       "American Adjunct Lager      0.813102  \n",
       "American Amber / Red Ale    0.651262  \n",
       "American Amber / Red Lager  0.699792  \n",
       "American Barleywine         0.555808  \n",
       "...                              ...  \n",
       "Vienna Lager                0.667539  \n",
       "Weizenbock                  0.518735  \n",
       "Wheatwine                   0.612987  \n",
       "Winter Warmer               0.627473  \n",
       "Witbier                     0.674364  \n",
       "\n",
       "[104 rows x 15 columns]"
      ]
     },
     "execution_count": 21,
     "metadata": {},
     "output_type": "execute_result"
    }
   ],
   "source": [
    "gr[review_cols].agg(['mean', 'count', 'std'])"
   ]
  },
  {
   "cell_type": "markdown",
   "metadata": {},
   "source": [
    "Hierarchical Indexes in the columns can be awkward to work with, so I'll usually\n",
    "move a level to the Index with `.stack`."
   ]
  },
  {
   "cell_type": "code",
   "execution_count": 22,
   "metadata": {
    "collapsed": false
   },
   "outputs": [
    {
     "data": {
      "text/html": [
       "<div>\n",
       "<table border=\"1\" class=\"dataframe\">\n",
       "  <thead>\n",
       "    <tr style=\"text-align: right;\">\n",
       "      <th></th>\n",
       "      <th></th>\n",
       "      <th>mean</th>\n",
       "      <th>count</th>\n",
       "      <th>std</th>\n",
       "    </tr>\n",
       "    <tr>\n",
       "      <th>beer_style</th>\n",
       "      <th></th>\n",
       "      <th></th>\n",
       "      <th></th>\n",
       "      <th></th>\n",
       "    </tr>\n",
       "  </thead>\n",
       "  <tbody>\n",
       "    <tr>\n",
       "      <th rowspan=\"5\" valign=\"top\">Altbier</th>\n",
       "      <th>review_appearance</th>\n",
       "      <td>3.819018</td>\n",
       "      <td>326</td>\n",
       "      <td>0.559731</td>\n",
       "    </tr>\n",
       "    <tr>\n",
       "      <th>review_aroma</th>\n",
       "      <td>3.599693</td>\n",
       "      <td>326</td>\n",
       "      <td>0.568426</td>\n",
       "    </tr>\n",
       "    <tr>\n",
       "      <th>review_overall</th>\n",
       "      <td>3.774540</td>\n",
       "      <td>326</td>\n",
       "      <td>0.676367</td>\n",
       "    </tr>\n",
       "    <tr>\n",
       "      <th>review_palate</th>\n",
       "      <td>3.684049</td>\n",
       "      <td>326</td>\n",
       "      <td>0.601171</td>\n",
       "    </tr>\n",
       "    <tr>\n",
       "      <th>review_taste</th>\n",
       "      <td>3.696319</td>\n",
       "      <td>326</td>\n",
       "      <td>0.624957</td>\n",
       "    </tr>\n",
       "    <tr>\n",
       "      <th>...</th>\n",
       "      <th>...</th>\n",
       "      <td>...</td>\n",
       "      <td>...</td>\n",
       "      <td>...</td>\n",
       "    </tr>\n",
       "    <tr>\n",
       "      <th rowspan=\"5\" valign=\"top\">Witbier</th>\n",
       "      <th>review_appearance</th>\n",
       "      <td>3.647826</td>\n",
       "      <td>1495</td>\n",
       "      <td>0.591286</td>\n",
       "    </tr>\n",
       "    <tr>\n",
       "      <th>review_aroma</th>\n",
       "      <td>3.631773</td>\n",
       "      <td>1495</td>\n",
       "      <td>0.599275</td>\n",
       "    </tr>\n",
       "    <tr>\n",
       "      <th>review_overall</th>\n",
       "      <td>3.755853</td>\n",
       "      <td>1495</td>\n",
       "      <td>0.717391</td>\n",
       "    </tr>\n",
       "    <tr>\n",
       "      <th>review_palate</th>\n",
       "      <td>3.598328</td>\n",
       "      <td>1495</td>\n",
       "      <td>0.622560</td>\n",
       "    </tr>\n",
       "    <tr>\n",
       "      <th>review_taste</th>\n",
       "      <td>3.631438</td>\n",
       "      <td>1495</td>\n",
       "      <td>0.674364</td>\n",
       "    </tr>\n",
       "  </tbody>\n",
       "</table>\n",
       "<p>520 rows × 3 columns</p>\n",
       "</div>"
      ],
      "text/plain": [
       "                                  mean  count       std\n",
       "beer_style                                             \n",
       "Altbier    review_appearance  3.819018    326  0.559731\n",
       "           review_aroma       3.599693    326  0.568426\n",
       "           review_overall     3.774540    326  0.676367\n",
       "           review_palate      3.684049    326  0.601171\n",
       "           review_taste       3.696319    326  0.624957\n",
       "...                                ...    ...       ...\n",
       "Witbier    review_appearance  3.647826   1495  0.591286\n",
       "           review_aroma       3.631773   1495  0.599275\n",
       "           review_overall     3.755853   1495  0.717391\n",
       "           review_palate      3.598328   1495  0.622560\n",
       "           review_taste       3.631438   1495  0.674364\n",
       "\n",
       "[520 rows x 3 columns]"
      ]
     },
     "execution_count": 22,
     "metadata": {},
     "output_type": "execute_result"
    }
   ],
   "source": [
    "gr[review_cols].agg(['mean', 'count', 'std']).stack(level=0)"
   ]
  },
  {
   "cell_type": "markdown",
   "metadata": {},
   "source": [
    "You can group by **levels** of a MultiIndex."
   ]
  },
  {
   "cell_type": "code",
   "execution_count": 23,
   "metadata": {
    "collapsed": false
   },
   "outputs": [
    {
     "data": {
      "text/html": [
       "<div>\n",
       "<table border=\"1\" class=\"dataframe\">\n",
       "  <thead>\n",
       "    <tr style=\"text-align: right;\">\n",
       "      <th></th>\n",
       "      <th></th>\n",
       "      <th>mean</th>\n",
       "      <th>count</th>\n",
       "      <th>std</th>\n",
       "    </tr>\n",
       "    <tr>\n",
       "      <th>beer_style</th>\n",
       "      <th></th>\n",
       "      <th></th>\n",
       "      <th></th>\n",
       "      <th></th>\n",
       "    </tr>\n",
       "  </thead>\n",
       "  <tbody>\n",
       "    <tr>\n",
       "      <th rowspan=\"5\" valign=\"top\">Altbier</th>\n",
       "      <th>review_appearance</th>\n",
       "      <td>3.819018</td>\n",
       "      <td>326</td>\n",
       "      <td>0.559731</td>\n",
       "    </tr>\n",
       "    <tr>\n",
       "      <th>review_aroma</th>\n",
       "      <td>3.599693</td>\n",
       "      <td>326</td>\n",
       "      <td>0.568426</td>\n",
       "    </tr>\n",
       "    <tr>\n",
       "      <th>review_overall</th>\n",
       "      <td>3.774540</td>\n",
       "      <td>326</td>\n",
       "      <td>0.676367</td>\n",
       "    </tr>\n",
       "    <tr>\n",
       "      <th>review_palate</th>\n",
       "      <td>3.684049</td>\n",
       "      <td>326</td>\n",
       "      <td>0.601171</td>\n",
       "    </tr>\n",
       "    <tr>\n",
       "      <th>review_taste</th>\n",
       "      <td>3.696319</td>\n",
       "      <td>326</td>\n",
       "      <td>0.624957</td>\n",
       "    </tr>\n",
       "  </tbody>\n",
       "</table>\n",
       "</div>"
      ],
      "text/plain": [
       "                                  mean  count       std\n",
       "beer_style                                             \n",
       "Altbier    review_appearance  3.819018    326  0.559731\n",
       "           review_aroma       3.599693    326  0.568426\n",
       "           review_overall     3.774540    326  0.676367\n",
       "           review_palate      3.684049    326  0.601171\n",
       "           review_taste       3.696319    326  0.624957"
      ]
     },
     "execution_count": 23,
     "metadata": {},
     "output_type": "execute_result"
    }
   ],
   "source": [
    "multi = gr[review_cols].agg(['mean', 'count', 'std']).stack(level=0)\n",
    "multi.head()"
   ]
  },
  {
   "cell_type": "code",
   "execution_count": 24,
   "metadata": {
    "collapsed": false
   },
   "outputs": [
    {
     "data": {
      "text/html": [
       "<div>\n",
       "<table border=\"1\" class=\"dataframe\">\n",
       "  <thead>\n",
       "    <tr style=\"text-align: right;\">\n",
       "      <th></th>\n",
       "      <th>min</th>\n",
       "      <th>max</th>\n",
       "    </tr>\n",
       "    <tr>\n",
       "      <th>beer_style</th>\n",
       "      <th></th>\n",
       "      <th></th>\n",
       "    </tr>\n",
       "  </thead>\n",
       "  <tbody>\n",
       "    <tr>\n",
       "      <th>Altbier</th>\n",
       "      <td>3.599693</td>\n",
       "      <td>3.819018</td>\n",
       "    </tr>\n",
       "    <tr>\n",
       "      <th>American Adjunct Lager</th>\n",
       "      <td>2.501012</td>\n",
       "      <td>3.088731</td>\n",
       "    </tr>\n",
       "    <tr>\n",
       "      <th>American Amber / Red Ale</th>\n",
       "      <td>3.675518</td>\n",
       "      <td>3.864496</td>\n",
       "    </tr>\n",
       "    <tr>\n",
       "      <th>American Amber / Red Lager</th>\n",
       "      <td>3.243689</td>\n",
       "      <td>3.600971</td>\n",
       "    </tr>\n",
       "    <tr>\n",
       "      <th>American Barleywine</th>\n",
       "      <td>3.893434</td>\n",
       "      <td>4.040345</td>\n",
       "    </tr>\n",
       "    <tr>\n",
       "      <th>...</th>\n",
       "      <td>...</td>\n",
       "      <td>...</td>\n",
       "    </tr>\n",
       "    <tr>\n",
       "      <th>Vienna Lager</th>\n",
       "      <td>3.459963</td>\n",
       "      <td>3.837989</td>\n",
       "    </tr>\n",
       "    <tr>\n",
       "      <th>Weizenbock</th>\n",
       "      <td>4.027928</td>\n",
       "      <td>4.111712</td>\n",
       "    </tr>\n",
       "    <tr>\n",
       "      <th>Wheatwine</th>\n",
       "      <td>3.813319</td>\n",
       "      <td>4.066594</td>\n",
       "    </tr>\n",
       "    <tr>\n",
       "      <th>Winter Warmer</th>\n",
       "      <td>3.694115</td>\n",
       "      <td>3.849075</td>\n",
       "    </tr>\n",
       "    <tr>\n",
       "      <th>Witbier</th>\n",
       "      <td>3.598328</td>\n",
       "      <td>3.755853</td>\n",
       "    </tr>\n",
       "  </tbody>\n",
       "</table>\n",
       "<p>104 rows × 2 columns</p>\n",
       "</div>"
      ],
      "text/plain": [
       "                                 min       max\n",
       "beer_style                                    \n",
       "Altbier                     3.599693  3.819018\n",
       "American Adjunct Lager      2.501012  3.088731\n",
       "American Amber / Red Ale    3.675518  3.864496\n",
       "American Amber / Red Lager  3.243689  3.600971\n",
       "American Barleywine         3.893434  4.040345\n",
       "...                              ...       ...\n",
       "Vienna Lager                3.459963  3.837989\n",
       "Weizenbock                  4.027928  4.111712\n",
       "Wheatwine                   3.813319  4.066594\n",
       "Winter Warmer               3.694115  3.849075\n",
       "Witbier                     3.598328  3.755853\n",
       "\n",
       "[104 rows x 2 columns]"
      ]
     },
     "execution_count": 24,
     "metadata": {},
     "output_type": "execute_result"
    }
   ],
   "source": [
    "multi.groupby(level='beer_style')['mean'].agg(['min', 'max'])"
   ]
  },
  {
   "cell_type": "markdown",
   "metadata": {},
   "source": [
    "Group by **multiple** columns"
   ]
  },
  {
   "cell_type": "code",
   "execution_count": 25,
   "metadata": {
    "collapsed": false
   },
   "outputs": [
    {
     "data": {
      "text/plain": [
       "brewer_id  beer_style                    \n",
       "1          Czech Pilsener                    3.943662\n",
       "3          American Adjunct Lager            3.750000\n",
       "           American Amber / Red Ale          3.750000\n",
       "           American Brown Ale                3.324324\n",
       "           American Double / Imperial IPA    4.333333\n",
       "                                               ...   \n",
       "24926      Belgian Strong Dark Ale           4.000000\n",
       "           Fruit / Vegetable Beer            4.500000\n",
       "24964      American Malt Liquor              3.600000\n",
       "25680      Euro Pale Lager                   3.500000\n",
       "27039      American Double / Imperial IPA    4.875000\n",
       "Name: review_overall, dtype: float64"
      ]
     },
     "execution_count": 25,
     "metadata": {},
     "output_type": "execute_result"
    }
   ],
   "source": [
    "df.groupby(['brewer_id', 'beer_style']).review_overall.mean()"
   ]
  },
  {
   "cell_type": "code",
   "execution_count": 26,
   "metadata": {
    "collapsed": false
   },
   "outputs": [
    {
     "data": {
      "text/html": [
       "<div>\n",
       "<table border=\"1\" class=\"dataframe\">\n",
       "  <thead>\n",
       "    <tr style=\"text-align: right;\">\n",
       "      <th></th>\n",
       "      <th></th>\n",
       "      <th>review_appearance</th>\n",
       "      <th>review_aroma</th>\n",
       "      <th>review_overall</th>\n",
       "      <th>review_palate</th>\n",
       "      <th>review_taste</th>\n",
       "    </tr>\n",
       "    <tr>\n",
       "      <th>brewer_id</th>\n",
       "      <th>beer_style</th>\n",
       "      <th></th>\n",
       "      <th></th>\n",
       "      <th></th>\n",
       "      <th></th>\n",
       "      <th></th>\n",
       "    </tr>\n",
       "  </thead>\n",
       "  <tbody>\n",
       "    <tr>\n",
       "      <th>1</th>\n",
       "      <th>Czech Pilsener</th>\n",
       "      <td>3.605634</td>\n",
       "      <td>3.514085</td>\n",
       "      <td>3.943662</td>\n",
       "      <td>3.633803</td>\n",
       "      <td>3.718310</td>\n",
       "    </tr>\n",
       "    <tr>\n",
       "      <th rowspan=\"4\" valign=\"top\">3</th>\n",
       "      <th>American Adjunct Lager</th>\n",
       "      <td>3.250000</td>\n",
       "      <td>2.500000</td>\n",
       "      <td>3.750000</td>\n",
       "      <td>3.500000</td>\n",
       "      <td>2.750000</td>\n",
       "    </tr>\n",
       "    <tr>\n",
       "      <th>American Amber / Red Ale</th>\n",
       "      <td>3.666667</td>\n",
       "      <td>3.472222</td>\n",
       "      <td>3.750000</td>\n",
       "      <td>3.486111</td>\n",
       "      <td>3.583333</td>\n",
       "    </tr>\n",
       "    <tr>\n",
       "      <th>American Brown Ale</th>\n",
       "      <td>3.513514</td>\n",
       "      <td>3.270270</td>\n",
       "      <td>3.324324</td>\n",
       "      <td>3.081081</td>\n",
       "      <td>3.175676</td>\n",
       "    </tr>\n",
       "    <tr>\n",
       "      <th>American Double / Imperial IPA</th>\n",
       "      <td>3.833333</td>\n",
       "      <td>3.833333</td>\n",
       "      <td>4.333333</td>\n",
       "      <td>3.833333</td>\n",
       "      <td>3.833333</td>\n",
       "    </tr>\n",
       "    <tr>\n",
       "      <th>...</th>\n",
       "      <th>...</th>\n",
       "      <td>...</td>\n",
       "      <td>...</td>\n",
       "      <td>...</td>\n",
       "      <td>...</td>\n",
       "      <td>...</td>\n",
       "    </tr>\n",
       "    <tr>\n",
       "      <th rowspan=\"2\" valign=\"top\">24926</th>\n",
       "      <th>Belgian Strong Dark Ale</th>\n",
       "      <td>3.500000</td>\n",
       "      <td>3.500000</td>\n",
       "      <td>4.000000</td>\n",
       "      <td>4.000000</td>\n",
       "      <td>4.000000</td>\n",
       "    </tr>\n",
       "    <tr>\n",
       "      <th>Fruit / Vegetable Beer</th>\n",
       "      <td>4.500000</td>\n",
       "      <td>4.500000</td>\n",
       "      <td>4.500000</td>\n",
       "      <td>4.500000</td>\n",
       "      <td>4.500000</td>\n",
       "    </tr>\n",
       "    <tr>\n",
       "      <th>24964</th>\n",
       "      <th>American Malt Liquor</th>\n",
       "      <td>3.300000</td>\n",
       "      <td>2.800000</td>\n",
       "      <td>3.600000</td>\n",
       "      <td>3.200000</td>\n",
       "      <td>3.400000</td>\n",
       "    </tr>\n",
       "    <tr>\n",
       "      <th>25680</th>\n",
       "      <th>Euro Pale Lager</th>\n",
       "      <td>4.000000</td>\n",
       "      <td>3.500000</td>\n",
       "      <td>3.500000</td>\n",
       "      <td>3.500000</td>\n",
       "      <td>3.500000</td>\n",
       "    </tr>\n",
       "    <tr>\n",
       "      <th>27039</th>\n",
       "      <th>American Double / Imperial IPA</th>\n",
       "      <td>4.625000</td>\n",
       "      <td>4.750000</td>\n",
       "      <td>4.875000</td>\n",
       "      <td>4.875000</td>\n",
       "      <td>4.875000</td>\n",
       "    </tr>\n",
       "  </tbody>\n",
       "</table>\n",
       "<p>10432 rows × 5 columns</p>\n",
       "</div>"
      ],
      "text/plain": [
       "                                          review_appearance  review_aroma  \\\n",
       "brewer_id beer_style                                                        \n",
       "1         Czech Pilsener                           3.605634      3.514085   \n",
       "3         American Adjunct Lager                   3.250000      2.500000   \n",
       "          American Amber / Red Ale                 3.666667      3.472222   \n",
       "          American Brown Ale                       3.513514      3.270270   \n",
       "          American Double / Imperial IPA           3.833333      3.833333   \n",
       "...                                                     ...           ...   \n",
       "24926     Belgian Strong Dark Ale                  3.500000      3.500000   \n",
       "          Fruit / Vegetable Beer                   4.500000      4.500000   \n",
       "24964     American Malt Liquor                     3.300000      2.800000   \n",
       "25680     Euro Pale Lager                          4.000000      3.500000   \n",
       "27039     American Double / Imperial IPA           4.625000      4.750000   \n",
       "\n",
       "                                          review_overall  review_palate  \\\n",
       "brewer_id beer_style                                                      \n",
       "1         Czech Pilsener                        3.943662       3.633803   \n",
       "3         American Adjunct Lager                3.750000       3.500000   \n",
       "          American Amber / Red Ale              3.750000       3.486111   \n",
       "          American Brown Ale                    3.324324       3.081081   \n",
       "          American Double / Imperial IPA        4.333333       3.833333   \n",
       "...                                                  ...            ...   \n",
       "24926     Belgian Strong Dark Ale               4.000000       4.000000   \n",
       "          Fruit / Vegetable Beer                4.500000       4.500000   \n",
       "24964     American Malt Liquor                  3.600000       3.200000   \n",
       "25680     Euro Pale Lager                       3.500000       3.500000   \n",
       "27039     American Double / Imperial IPA        4.875000       4.875000   \n",
       "\n",
       "                                          review_taste  \n",
       "brewer_id beer_style                                    \n",
       "1         Czech Pilsener                      3.718310  \n",
       "3         American Adjunct Lager              2.750000  \n",
       "          American Amber / Red Ale            3.583333  \n",
       "          American Brown Ale                  3.175676  \n",
       "          American Double / Imperial IPA      3.833333  \n",
       "...                                                ...  \n",
       "24926     Belgian Strong Dark Ale             4.000000  \n",
       "          Fruit / Vegetable Beer              4.500000  \n",
       "24964     American Malt Liquor                3.400000  \n",
       "25680     Euro Pale Lager                     3.500000  \n",
       "27039     American Double / Imperial IPA      4.875000  \n",
       "\n",
       "[10432 rows x 5 columns]"
      ]
     },
     "execution_count": 26,
     "metadata": {},
     "output_type": "execute_result"
    }
   ],
   "source": [
    "df.groupby(['brewer_id', 'beer_style'])[review_cols].mean()"
   ]
  },
  {
   "cell_type": "markdown",
   "metadata": {},
   "source": [
    "### Exercise: Plot the relationship between review length (the `text` column) and average `review_overall`.\n",
    "\n",
    "Hint: Break the problem into pieces:\n",
    "\n",
    "- Find the **len**gth of each reivew (remember the `df.text.str` namespace?)\n",
    "- Group by that Series of review lengths\n",
    "- I used `style='k.'` in the plot "
   ]
  },
  {
   "cell_type": "code",
   "execution_count": 27,
   "metadata": {
    "collapsed": true
   },
   "outputs": [],
   "source": [
    "# Your code goes here"
   ]
  },
  {
   "cell_type": "code",
   "execution_count": null,
   "metadata": {
    "collapsed": false
   },
   "outputs": [],
   "source": [
    "# %load -r 1:5 solutions_groupby.py\n",
    "(df.groupby(df.text.str.len())\n",
    "   .review_overall\n",
    "   .mean()\n",
    "   .plot(style='.k', figsize=(10, 5)))"
   ]
  },
  {
   "cell_type": "markdown",
   "metadata": {},
   "source": [
    "Bonus exercise:\n",
    "\n",
    "- Try grouping by the number of words.\n",
    "- Try grouping by the number of sentances.\n",
    "\n",
    "Remember that `str.count` accepts a regular expression.\n",
    "\n",
    "Don't worry too much about these, especially if you don't remember the syntax\n",
    "for regular expressions (I never can). Just jump to the next exercise."
   ]
  },
  {
   "cell_type": "code",
   "execution_count": null,
   "metadata": {
    "collapsed": true
   },
   "outputs": [],
   "source": []
  },
  {
   "cell_type": "code",
   "execution_count": 30,
   "metadata": {
    "collapsed": false
   },
   "outputs": [
    {
     "data": {
      "text/plain": [
       "<matplotlib.axes._subplots.AxesSubplot at 0x10c4be550>"
      ]
     },
     "execution_count": 30,
     "metadata": {},
     "output_type": "execute_result"
    },
    {
     "data": {
      "image/png": "[encoded data removed]",
      "text/plain": [
       "<matplotlib.figure.Figure at 0x109f65450>"
      ]
     },
     "metadata": {},
     "output_type": "display_data"
    }
   ],
   "source": [
    "# %load -r 18:20 solutions_groupby.py\n",
    "# Review by words\n",
    "df.groupby(df.text.str.count('\\w')).review_overall.mean().plot(style='k.')"
   ]
  },
  {
   "cell_type": "code",
   "execution_count": null,
   "metadata": {
    "collapsed": true
   },
   "outputs": [],
   "source": []
  },
  {
   "cell_type": "code",
   "execution_count": null,
   "metadata": {
    "collapsed": false
   },
   "outputs": [],
   "source": [
    "# %load -r 21:26 solutions_groupby.py\n",
    "# Review by sentences.\n",
    "(df.groupby(df.text.str.count('[. |! |\\? |; ]'))\n",
    "    .review_overall\n",
    "    .mean()\n",
    "    .plot(style='k.'))"
   ]
  },
  {
   "cell_type": "code",
   "execution_count": 32,
   "metadata": {
    "collapsed": true
   },
   "outputs": [],
   "source": [
    "# Your code goes here"
   ]
  },
  {
   "cell_type": "markdown",
   "metadata": {},
   "source": [
    "### Exercise: Which **brewer** (`brewer_id`) has the largest gap between the min and max `review_overall` for two of their beers.\n",
    "\n",
    "Hint: You'll need to do this in two steps.\n",
    "\n",
    "1. Find the average `review_overall` by brewer and beername.\n",
    "2. Find the difference between the max and min by brewer (rembember `.groupby(level=)`)"
   ]
  },
  {
   "cell_type": "code",
   "execution_count": 33,
   "metadata": {
    "collapsed": true
   },
   "outputs": [],
   "source": [
    "# Your code goes here. You've got this!"
   ]
  },
  {
   "cell_type": "code",
   "execution_count": null,
   "metadata": {
    "collapsed": false
   },
   "outputs": [],
   "source": [
    "# %load -r 6:13 solutions_groupby.py\n",
    "# min-max gap\n",
    "avg = (df.groupby(['brewer_id', 'beer_name'])\n",
    "       .review_overall\n",
    "       .mean())\n",
    "extrema = avg.groupby(level='brewer_id').agg(['min', 'max'])\n",
    "difference = extrema['max'] - extrema['min']\n",
    "difference.order(ascending=False)"
   ]
  },
  {
   "cell_type": "code",
   "execution_count": 35,
   "metadata": {
    "collapsed": true
   },
   "outputs": [],
   "source": [
    "# Show for those with counts > 20ish"
   ]
  },
  {
   "cell_type": "markdown",
   "metadata": {},
   "source": [
    "Create our own \"kind\" of beer, which aggregates `style`."
   ]
  },
  {
   "cell_type": "code",
   "execution_count": 36,
   "metadata": {
    "collapsed": false
   },
   "outputs": [
    {
     "data": {
      "text/plain": [
       "0                    american stout\n",
       "1                   american porter\n",
       "2                   german pilsener\n",
       "3    american double / imperial ipa\n",
       "4           american pale ale (apa)\n",
       "Name: beer_style, dtype: object"
      ]
     },
     "execution_count": 36,
     "metadata": {},
     "output_type": "execute_result"
    }
   ],
   "source": [
    "style = df.beer_style.str.lower()\n",
    "style.head()"
   ]
  },
  {
   "cell_type": "code",
   "execution_count": 37,
   "metadata": {
    "collapsed": true
   },
   "outputs": [],
   "source": [
    "kinds = ['ipa', 'apa', 'amber ale', 'rye', 'scotch', 'stout', 'barleywine', 'porter', 'brown ale', 'lager', 'pilsner',\n",
    "         'tripel', 'biter', 'farmhouse', 'malt liquour', 'rice']"
   ]
  },
  {
   "cell_type": "code",
   "execution_count": 38,
   "metadata": {
    "collapsed": false
   },
   "outputs": [
    {
     "data": {
      "text/plain": [
       "'(?P<ipa>ipa)|(?P<apa>apa)|(?P<amber_ale>amber ale)|(?P<rye>rye)|(?P<scotch>scotch)|(?P<stout>stout)|(?P<barleywine>barleywine)|(?P<porter>porter)|(?P<brown_ale>brown ale)|(?P<lager>lager)|(?P<pilsner>pilsner)|(?P<tripel>tripel)|(?P<biter>biter)|(?P<farmhouse>farmhouse)|(?P<malt_liquour>malt liquour)|(?P<rice>rice)'"
      ]
     },
     "execution_count": 38,
     "metadata": {},
     "output_type": "execute_result"
    }
   ],
   "source": [
    "expr = '|'.join(['(?P<{name}>{pat})'.format(pat=kind, name=kind.replace(' ', '_')) for kind in kinds])\n",
    "expr"
   ]
  },
  {
   "cell_type": "code",
   "execution_count": 39,
   "metadata": {
    "collapsed": false
   },
   "outputs": [
    {
     "data": {
      "text/plain": [
       "0     stout\n",
       "1    porter\n",
       "2     other\n",
       "3       ipa\n",
       "4       apa\n",
       "dtype: object"
      ]
     },
     "execution_count": 39,
     "metadata": {},
     "output_type": "execute_result"
    }
   ],
   "source": [
    "beer_kind = (style.replace({'india pale ale': 'ipa',\n",
    "                            'american pale ale': 'apa'})\n",
    "            .str.extract(expr).fillna('').sum(1)\n",
    "            .str.lower().replace('', 'other'))\n",
    "beer_kind.head()"
   ]
  },
  {
   "cell_type": "code",
   "execution_count": 40,
   "metadata": {
    "collapsed": false
   },
   "outputs": [
    {
     "data": {
      "text/plain": [
       "brewer_id           \n",
       "1          other        3.943662\n",
       "3          apa          3.347826\n",
       "           brown ale    3.582418\n",
       "           ipa          3.662791\n",
       "           lager        3.772727\n",
       "                          ...   \n",
       "23980      porter       3.681818\n",
       "24926      other        4.166667\n",
       "24964      other        3.600000\n",
       "25680      lager        3.500000\n",
       "27039      ipa          4.875000\n",
       "Name: review_overall, dtype: float64"
      ]
     },
     "execution_count": 40,
     "metadata": {},
     "output_type": "execute_result"
    }
   ],
   "source": [
    "df.groupby(['brewer_id', beer_kind]).review_overall.mean()"
   ]
  },
  {
   "cell_type": "code",
   "execution_count": 41,
   "metadata": {
    "collapsed": false
   },
   "outputs": [
    {
     "data": {
      "text/html": [
       "<div>\n",
       "<table border=\"1\" class=\"dataframe\">\n",
       "  <thead>\n",
       "    <tr style=\"text-align: right;\">\n",
       "      <th></th>\n",
       "      <th>apa</th>\n",
       "      <th>barleywine</th>\n",
       "      <th>brown ale</th>\n",
       "      <th>farmhouse</th>\n",
       "      <th>ipa</th>\n",
       "      <th>lager</th>\n",
       "      <th>other</th>\n",
       "      <th>pilsner</th>\n",
       "      <th>porter</th>\n",
       "      <th>rye</th>\n",
       "      <th>scotch</th>\n",
       "      <th>stout</th>\n",
       "      <th>tripel</th>\n",
       "    </tr>\n",
       "    <tr>\n",
       "      <th>brewer_id</th>\n",
       "      <th></th>\n",
       "      <th></th>\n",
       "      <th></th>\n",
       "      <th></th>\n",
       "      <th></th>\n",
       "      <th></th>\n",
       "      <th></th>\n",
       "      <th></th>\n",
       "      <th></th>\n",
       "      <th></th>\n",
       "      <th></th>\n",
       "      <th></th>\n",
       "      <th></th>\n",
       "    </tr>\n",
       "  </thead>\n",
       "  <tbody>\n",
       "    <tr>\n",
       "      <th>1</th>\n",
       "      <td>0</td>\n",
       "      <td>0</td>\n",
       "      <td>0</td>\n",
       "      <td>0</td>\n",
       "      <td>0</td>\n",
       "      <td>0</td>\n",
       "      <td>3</td>\n",
       "      <td>0</td>\n",
       "      <td>0</td>\n",
       "      <td>0</td>\n",
       "      <td>0</td>\n",
       "      <td>0</td>\n",
       "      <td>0</td>\n",
       "    </tr>\n",
       "    <tr>\n",
       "      <th>3</th>\n",
       "      <td>1</td>\n",
       "      <td>0</td>\n",
       "      <td>3</td>\n",
       "      <td>0</td>\n",
       "      <td>2</td>\n",
       "      <td>4</td>\n",
       "      <td>11</td>\n",
       "      <td>0</td>\n",
       "      <td>0</td>\n",
       "      <td>0</td>\n",
       "      <td>0</td>\n",
       "      <td>1</td>\n",
       "      <td>0</td>\n",
       "    </tr>\n",
       "    <tr>\n",
       "      <th>4</th>\n",
       "      <td>0</td>\n",
       "      <td>0</td>\n",
       "      <td>0</td>\n",
       "      <td>1</td>\n",
       "      <td>1</td>\n",
       "      <td>0</td>\n",
       "      <td>18</td>\n",
       "      <td>0</td>\n",
       "      <td>0</td>\n",
       "      <td>0</td>\n",
       "      <td>1</td>\n",
       "      <td>0</td>\n",
       "      <td>2</td>\n",
       "    </tr>\n",
       "    <tr>\n",
       "      <th>6</th>\n",
       "      <td>0</td>\n",
       "      <td>0</td>\n",
       "      <td>0</td>\n",
       "      <td>0</td>\n",
       "      <td>0</td>\n",
       "      <td>0</td>\n",
       "      <td>3</td>\n",
       "      <td>0</td>\n",
       "      <td>0</td>\n",
       "      <td>0</td>\n",
       "      <td>0</td>\n",
       "      <td>0</td>\n",
       "      <td>1</td>\n",
       "    </tr>\n",
       "    <tr>\n",
       "      <th>8</th>\n",
       "      <td>2</td>\n",
       "      <td>1</td>\n",
       "      <td>0</td>\n",
       "      <td>0</td>\n",
       "      <td>3</td>\n",
       "      <td>0</td>\n",
       "      <td>8</td>\n",
       "      <td>0</td>\n",
       "      <td>0</td>\n",
       "      <td>0</td>\n",
       "      <td>0</td>\n",
       "      <td>1</td>\n",
       "      <td>0</td>\n",
       "    </tr>\n",
       "    <tr>\n",
       "      <th>...</th>\n",
       "      <td>...</td>\n",
       "      <td>...</td>\n",
       "      <td>...</td>\n",
       "      <td>...</td>\n",
       "      <td>...</td>\n",
       "      <td>...</td>\n",
       "      <td>...</td>\n",
       "      <td>...</td>\n",
       "      <td>...</td>\n",
       "      <td>...</td>\n",
       "      <td>...</td>\n",
       "      <td>...</td>\n",
       "      <td>...</td>\n",
       "    </tr>\n",
       "    <tr>\n",
       "      <th>23980</th>\n",
       "      <td>1</td>\n",
       "      <td>0</td>\n",
       "      <td>0</td>\n",
       "      <td>0</td>\n",
       "      <td>0</td>\n",
       "      <td>4</td>\n",
       "      <td>2</td>\n",
       "      <td>0</td>\n",
       "      <td>1</td>\n",
       "      <td>0</td>\n",
       "      <td>0</td>\n",
       "      <td>0</td>\n",
       "      <td>0</td>\n",
       "    </tr>\n",
       "    <tr>\n",
       "      <th>24926</th>\n",
       "      <td>0</td>\n",
       "      <td>0</td>\n",
       "      <td>0</td>\n",
       "      <td>0</td>\n",
       "      <td>0</td>\n",
       "      <td>0</td>\n",
       "      <td>3</td>\n",
       "      <td>0</td>\n",
       "      <td>0</td>\n",
       "      <td>0</td>\n",
       "      <td>0</td>\n",
       "      <td>0</td>\n",
       "      <td>0</td>\n",
       "    </tr>\n",
       "    <tr>\n",
       "      <th>24964</th>\n",
       "      <td>0</td>\n",
       "      <td>0</td>\n",
       "      <td>0</td>\n",
       "      <td>0</td>\n",
       "      <td>0</td>\n",
       "      <td>0</td>\n",
       "      <td>1</td>\n",
       "      <td>0</td>\n",
       "      <td>0</td>\n",
       "      <td>0</td>\n",
       "      <td>0</td>\n",
       "      <td>0</td>\n",
       "      <td>0</td>\n",
       "    </tr>\n",
       "    <tr>\n",
       "      <th>25680</th>\n",
       "      <td>0</td>\n",
       "      <td>0</td>\n",
       "      <td>0</td>\n",
       "      <td>0</td>\n",
       "      <td>0</td>\n",
       "      <td>1</td>\n",
       "      <td>0</td>\n",
       "      <td>0</td>\n",
       "      <td>0</td>\n",
       "      <td>0</td>\n",
       "      <td>0</td>\n",
       "      <td>0</td>\n",
       "      <td>0</td>\n",
       "    </tr>\n",
       "    <tr>\n",
       "      <th>27039</th>\n",
       "      <td>0</td>\n",
       "      <td>0</td>\n",
       "      <td>0</td>\n",
       "      <td>0</td>\n",
       "      <td>2</td>\n",
       "      <td>0</td>\n",
       "      <td>0</td>\n",
       "      <td>0</td>\n",
       "      <td>0</td>\n",
       "      <td>0</td>\n",
       "      <td>0</td>\n",
       "      <td>0</td>\n",
       "      <td>0</td>\n",
       "    </tr>\n",
       "  </tbody>\n",
       "</table>\n",
       "<p>2333 rows × 13 columns</p>\n",
       "</div>"
      ],
      "text/plain": [
       "           apa  barleywine  brown ale  farmhouse  ipa  lager  other  pilsner  \\\n",
       "brewer_id                                                                      \n",
       "1            0           0          0          0    0      0      3        0   \n",
       "3            1           0          3          0    2      4     11        0   \n",
       "4            0           0          0          1    1      0     18        0   \n",
       "6            0           0          0          0    0      0      3        0   \n",
       "8            2           1          0          0    3      0      8        0   \n",
       "...        ...         ...        ...        ...  ...    ...    ...      ...   \n",
       "23980        1           0          0          0    0      4      2        0   \n",
       "24926        0           0          0          0    0      0      3        0   \n",
       "24964        0           0          0          0    0      0      1        0   \n",
       "25680        0           0          0          0    0      1      0        0   \n",
       "27039        0           0          0          0    2      0      0        0   \n",
       "\n",
       "           porter  rye  scotch  stout  tripel  \n",
       "brewer_id                                      \n",
       "1               0    0       0      0       0  \n",
       "3               0    0       0      1       0  \n",
       "4               0    0       1      0       2  \n",
       "6               0    0       0      0       1  \n",
       "8               0    0       0      1       0  \n",
       "...           ...  ...     ...    ...     ...  \n",
       "23980           1    0       0      0       0  \n",
       "24926           0    0       0      0       0  \n",
       "24964           0    0       0      0       0  \n",
       "25680           0    0       0      0       0  \n",
       "27039           0    0       0      0       0  \n",
       "\n",
       "[2333 rows x 13 columns]"
      ]
     },
     "execution_count": 41,
     "metadata": {},
     "output_type": "execute_result"
    }
   ],
   "source": [
    "df.groupby(['brewer_id', beer_kind]).beer_id.nunique().unstack(1).fillna(0)"
   ]
  },
  {
   "cell_type": "markdown",
   "metadata": {},
   "source": [
    "### Exercise: Which Brewers have the most different `kinds` of beer?\n",
    "\n",
    "Hint: we used `df.profile_name.nunique()` to find the number of different profile names.\n",
    "What are we grouping, and what is our grouper?"
   ]
  },
  {
   "cell_type": "code",
   "execution_count": null,
   "metadata": {
    "collapsed": true
   },
   "outputs": [],
   "source": []
  },
  {
   "cell_type": "code",
   "execution_count": 42,
   "metadata": {
    "collapsed": false
   },
   "outputs": [],
   "source": [
    "# %load -r 27:29 solutions_groupby.py"
   ]
  },
  {
   "cell_type": "markdown",
   "metadata": {},
   "source": [
    "### Exercise: Which kinds of beer have the most brewers?"
   ]
  },
  {
   "cell_type": "code",
   "execution_count": null,
   "metadata": {
    "collapsed": true
   },
   "outputs": [],
   "source": []
  },
  {
   "cell_type": "code",
   "execution_count": null,
   "metadata": {
    "collapsed": false
   },
   "outputs": [],
   "source": [
    "# %load -r 30:32 solutions_groupby.py\n",
    "# brewer per kind\n",
    "df.brewer_id.groupby(beer_kind).nunique()"
   ]
  },
  {
   "cell_type": "markdown",
   "metadata": {},
   "source": [
    "We've seen a lot of permutations among number of groupers, number of columns to aggregate, and number of aggregators.\n",
    "In fact, the `.agg`, which returns one row per group, is just one kind of way to combine the results. The three ways are\n",
    "\n",
    "- `agg`: one row per results\n",
    "- `transform`: identicaly shaped output as input\n",
    "- `apply`: anything goes\n"
   ]
  },
  {
   "cell_type": "markdown",
   "metadata": {},
   "source": [
    "# Transform"
   ]
  },
  {
   "cell_type": "markdown",
   "metadata": {},
   "source": [
    "Combined Series / DataFrame is the same shape as the input. For example, say you want to standardize the reviews by subtracting the mean."
   ]
  },
  {
   "cell_type": "code",
   "execution_count": 44,
   "metadata": {
    "collapsed": true
   },
   "outputs": [],
   "source": [
    "def de_mean(reviews):\n",
    "    s = reviews - reviews.mean()\n",
    "    return s"
   ]
  },
  {
   "cell_type": "code",
   "execution_count": 45,
   "metadata": {
    "collapsed": false
   },
   "outputs": [
    {
     "data": {
      "text/plain": [
       "0        0.63927\n",
       "1        0.63927\n",
       "2       -0.86073\n",
       "3        0.13927\n",
       "4        0.13927\n",
       "          ...   \n",
       "99995    0.63927\n",
       "99996    0.13927\n",
       "99997   -1.36073\n",
       "99998    0.13927\n",
       "99999    0.63927\n",
       "Name: review_overall, dtype: float64"
      ]
     },
     "execution_count": 45,
     "metadata": {},
     "output_type": "execute_result"
    }
   ],
   "source": [
    "de_mean(df.review_overall)"
   ]
  },
  {
   "cell_type": "markdown",
   "metadata": {},
   "source": [
    "We can do this at the *person* level with `groupby` and `transform`."
   ]
  },
  {
   "cell_type": "code",
   "execution_count": 46,
   "metadata": {
    "collapsed": false
   },
   "outputs": [
    {
     "data": {
      "text/html": [
       "<div>\n",
       "<table border=\"1\" class=\"dataframe\">\n",
       "  <thead>\n",
       "    <tr style=\"text-align: right;\">\n",
       "      <th></th>\n",
       "      <th>abv</th>\n",
       "      <th>beer_id</th>\n",
       "      <th>brewer_id</th>\n",
       "      <th>review_appearance</th>\n",
       "      <th>review_aroma</th>\n",
       "      <th>review_overall</th>\n",
       "      <th>review_palate</th>\n",
       "      <th>review_taste</th>\n",
       "    </tr>\n",
       "  </thead>\n",
       "  <tbody>\n",
       "    <tr>\n",
       "      <th>0</th>\n",
       "      <td>-2.763000</td>\n",
       "      <td>-14386.800000</td>\n",
       "      <td>-250.800000</td>\n",
       "      <td>0.350000</td>\n",
       "      <td>-0.050000</td>\n",
       "      <td>0.500000</td>\n",
       "      <td>-0.100000</td>\n",
       "      <td>0.450000</td>\n",
       "    </tr>\n",
       "    <tr>\n",
       "      <th>1</th>\n",
       "      <td>-1.622833</td>\n",
       "      <td>-8941.000000</td>\n",
       "      <td>4594.447761</td>\n",
       "      <td>0.462687</td>\n",
       "      <td>0.082090</td>\n",
       "      <td>0.395522</td>\n",
       "      <td>0.044776</td>\n",
       "      <td>-0.014925</td>\n",
       "    </tr>\n",
       "    <tr>\n",
       "      <th>2</th>\n",
       "      <td>-2.420000</td>\n",
       "      <td>-11859.162500</td>\n",
       "      <td>450.287500</td>\n",
       "      <td>0.025000</td>\n",
       "      <td>-0.968750</td>\n",
       "      <td>-0.875000</td>\n",
       "      <td>-0.631250</td>\n",
       "      <td>-0.350000</td>\n",
       "    </tr>\n",
       "    <tr>\n",
       "      <th>3</th>\n",
       "      <td>1.673333</td>\n",
       "      <td>-6783.687500</td>\n",
       "      <td>-1250.687500</td>\n",
       "      <td>0.250000</td>\n",
       "      <td>0.281250</td>\n",
       "      <td>0.093750</td>\n",
       "      <td>0.375000</td>\n",
       "      <td>0.312500</td>\n",
       "    </tr>\n",
       "    <tr>\n",
       "      <th>4</th>\n",
       "      <td>-1.996861</td>\n",
       "      <td>-25015.457746</td>\n",
       "      <td>-2934.570423</td>\n",
       "      <td>0.242958</td>\n",
       "      <td>-0.774648</td>\n",
       "      <td>0.295775</td>\n",
       "      <td>-0.242958</td>\n",
       "      <td>-0.683099</td>\n",
       "    </tr>\n",
       "    <tr>\n",
       "      <th>...</th>\n",
       "      <td>...</td>\n",
       "      <td>...</td>\n",
       "      <td>...</td>\n",
       "      <td>...</td>\n",
       "      <td>...</td>\n",
       "      <td>...</td>\n",
       "      <td>...</td>\n",
       "      <td>...</td>\n",
       "    </tr>\n",
       "    <tr>\n",
       "      <th>99995</th>\n",
       "      <td>-0.536528</td>\n",
       "      <td>-12955.893333</td>\n",
       "      <td>2269.973333</td>\n",
       "      <td>0.040000</td>\n",
       "      <td>0.580000</td>\n",
       "      <td>0.466667</td>\n",
       "      <td>0.520000</td>\n",
       "      <td>0.520000</td>\n",
       "    </tr>\n",
       "    <tr>\n",
       "      <th>99996</th>\n",
       "      <td>0.118182</td>\n",
       "      <td>-8688.272727</td>\n",
       "      <td>-3685.636364</td>\n",
       "      <td>0.090909</td>\n",
       "      <td>0.045455</td>\n",
       "      <td>0.090909</td>\n",
       "      <td>-0.181818</td>\n",
       "      <td>0.090909</td>\n",
       "    </tr>\n",
       "    <tr>\n",
       "      <th>99997</th>\n",
       "      <td>-0.500000</td>\n",
       "      <td>-822.000000</td>\n",
       "      <td>-201.500000</td>\n",
       "      <td>0.375000</td>\n",
       "      <td>-0.500000</td>\n",
       "      <td>-1.250000</td>\n",
       "      <td>0.250000</td>\n",
       "      <td>-0.375000</td>\n",
       "    </tr>\n",
       "    <tr>\n",
       "      <th>99998</th>\n",
       "      <td>-0.060876</td>\n",
       "      <td>-40408.033766</td>\n",
       "      <td>-6994.153247</td>\n",
       "      <td>-0.720779</td>\n",
       "      <td>0.331169</td>\n",
       "      <td>0.410390</td>\n",
       "      <td>-0.049351</td>\n",
       "      <td>0.468831</td>\n",
       "    </tr>\n",
       "    <tr>\n",
       "      <th>99999</th>\n",
       "      <td>-1.517449</td>\n",
       "      <td>-4006.112840</td>\n",
       "      <td>-3498.871595</td>\n",
       "      <td>0.025292</td>\n",
       "      <td>0.492218</td>\n",
       "      <td>0.575875</td>\n",
       "      <td>0.145914</td>\n",
       "      <td>0.577821</td>\n",
       "    </tr>\n",
       "  </tbody>\n",
       "</table>\n",
       "<p>100000 rows × 8 columns</p>\n",
       "</div>"
      ],
      "text/plain": [
       "            abv       beer_id    brewer_id  review_appearance  review_aroma  \\\n",
       "0     -2.763000 -14386.800000  -250.800000           0.350000     -0.050000   \n",
       "1     -1.622833  -8941.000000  4594.447761           0.462687      0.082090   \n",
       "2     -2.420000 -11859.162500   450.287500           0.025000     -0.968750   \n",
       "3      1.673333  -6783.687500 -1250.687500           0.250000      0.281250   \n",
       "4     -1.996861 -25015.457746 -2934.570423           0.242958     -0.774648   \n",
       "...         ...           ...          ...                ...           ...   \n",
       "99995 -0.536528 -12955.893333  2269.973333           0.040000      0.580000   \n",
       "99996  0.118182  -8688.272727 -3685.636364           0.090909      0.045455   \n",
       "99997 -0.500000   -822.000000  -201.500000           0.375000     -0.500000   \n",
       "99998 -0.060876 -40408.033766 -6994.153247          -0.720779      0.331169   \n",
       "99999 -1.517449  -4006.112840 -3498.871595           0.025292      0.492218   \n",
       "\n",
       "       review_overall  review_palate  review_taste  \n",
       "0            0.500000      -0.100000      0.450000  \n",
       "1            0.395522       0.044776     -0.014925  \n",
       "2           -0.875000      -0.631250     -0.350000  \n",
       "3            0.093750       0.375000      0.312500  \n",
       "4            0.295775      -0.242958     -0.683099  \n",
       "...               ...            ...           ...  \n",
       "99995        0.466667       0.520000      0.520000  \n",
       "99996        0.090909      -0.181818      0.090909  \n",
       "99997       -1.250000       0.250000     -0.375000  \n",
       "99998        0.410390      -0.049351      0.468831  \n",
       "99999        0.575875       0.145914      0.577821  \n",
       "\n",
       "[100000 rows x 8 columns]"
      ]
     },
     "execution_count": 46,
     "metadata": {},
     "output_type": "execute_result"
    }
   ],
   "source": [
    "df.groupby('profile_name').transform(de_mean)"
   ]
  },
  {
   "cell_type": "markdown",
   "metadata": {},
   "source": [
    "# Apply\n",
    "\n",
    "So there's `gr.agg`. and `gr.transform`, and finally `gr.apply`. We're going to skip apply for now. I have an example in a later notebook. "
   ]
  },
  {
   "cell_type": "markdown",
   "metadata": {},
   "source": [
    "# Resample\n",
    "\n",
    "Resample is a special kind of groupby operation for when you have a `DatetimeIndex`."
   ]
  },
  {
   "cell_type": "code",
   "execution_count": 32,
   "metadata": {
    "collapsed": false
   },
   "outputs": [
    {
     "data": {
      "text/plain": [
       "2009-10-05 21:31:48    1\n",
       "2009-10-05 21:32:09    1\n",
       "2009-10-05 21:32:13    1\n",
       "2009-10-05 21:32:37    1\n",
       "2009-10-05 21:33:14    1\n",
       "                      ..\n",
       "2010-03-07 01:29:31    1\n",
       "2010-03-07 01:30:35    1\n",
       "2010-03-07 01:32:46    1\n",
       "2010-03-07 01:33:29    1\n",
       "2010-03-07 01:34:05    1\n",
       "dtype: int64"
      ]
     },
     "execution_count": 32,
     "metadata": {},
     "output_type": "execute_result"
    }
   ],
   "source": [
    "review_times = df.time.value_counts().sort_index()\n",
    "review_times"
   ]
  },
  {
   "cell_type": "code",
   "execution_count": 33,
   "metadata": {
    "collapsed": false
   },
   "outputs": [
    {
     "data": {
      "text/plain": [
       "DatetimeIndex(['2009-10-05 21:31:48', '2009-10-05 21:32:09',\n",
       "               '2009-10-05 21:32:13', '2009-10-05 21:32:37',\n",
       "               '2009-10-05 21:33:14', '2009-10-05 21:33:48',\n",
       "               '2009-10-05 21:34:24', '2009-10-05 21:34:29',\n",
       "               '2009-10-05 21:34:31', '2009-10-05 21:35:09', \n",
       "               ...\n",
       "               '2010-03-07 01:22:40', '2010-03-07 01:25:09',\n",
       "               '2010-03-07 01:25:50', '2010-03-07 01:27:21',\n",
       "               '2010-03-07 01:28:05', '2010-03-07 01:29:31',\n",
       "               '2010-03-07 01:30:35', '2010-03-07 01:32:46',\n",
       "               '2010-03-07 01:33:29', '2010-03-07 01:34:05'],\n",
       "              dtype='datetime64[ns]', length=99307, freq=None, tz=None)"
      ]
     },
     "execution_count": 33,
     "metadata": {},
     "output_type": "execute_result"
    }
   ],
   "source": [
    "review_times.index"
   ]
  },
  {
   "cell_type": "markdown",
   "metadata": {},
   "source": [
    "The number of reviews within a given second isn't that interesting."
   ]
  },
  {
   "cell_type": "code",
   "execution_count": 34,
   "metadata": {
    "collapsed": false
   },
   "outputs": [
    {
     "data": {
      "text/plain": [
       "<matplotlib.axes._subplots.AxesSubplot at 0x1039bbb38>"
      ]
     },
     "execution_count": 34,
     "metadata": {},
     "output_type": "execute_result"
    },
    {
     "data": {
      "image/png": "[encoded data removed]",
      "text/plain": [
       "<matplotlib.figure.Figure at 0x10a1bbf60>"
      ]
     },
     "metadata": {},
     "output_type": "display_data"
    }
   ],
   "source": [
    "review_times.plot()"
   ]
  },
  {
   "cell_type": "markdown",
   "metadata": {},
   "source": [
    "Right now the frequency is way to high to be meaningful. `resample` lets you adjust the frequency."
   ]
  },
  {
   "cell_type": "code",
   "execution_count": 35,
   "metadata": {
    "collapsed": false
   },
   "outputs": [
    {
     "data": {
      "text/plain": [
       "<matplotlib.axes._subplots.AxesSubplot at 0x10af00cf8>"
      ]
     },
     "execution_count": 35,
     "metadata": {},
     "output_type": "execute_result"
    },
    {
     "data": {
      "image/png": "[encoded data removed]",
      "text/plain": [
       "<matplotlib.figure.Figure at 0x10b026d30>"
      ]
     },
     "metadata": {},
     "output_type": "display_data"
    }
   ],
   "source": [
    "review_times.resample(\"D\").plot()"
   ]
  },
  {
   "cell_type": "markdown",
   "metadata": {},
   "source": [
    "We've essentially grouped by day here (but syntax of `.resample('d')` is much nicer than what we'd have to do to use the `.groupby(grouper)` spelling). By default the aggregation function is `mean`, i.e. take the average of all the values that fall on that day. You can also sum."
   ]
  },
  {
   "cell_type": "code",
   "execution_count": 36,
   "metadata": {
    "collapsed": false
   },
   "outputs": [
    {
     "data": {
      "text/plain": [
       "<matplotlib.axes._subplots.AxesSubplot at 0x10af61128>"
      ]
     },
     "execution_count": 36,
     "metadata": {},
     "output_type": "execute_result"
    },
    {
     "data": {
      "image/png": "[encoded data removed]",
      "text/plain": [
       "<matplotlib.figure.Figure at 0x10adbe630>"
      ]
     },
     "metadata": {},
     "output_type": "display_data"
    }
   ],
   "source": [
    "review_times.resample('D', how='sum').plot()"
   ]
  },
  {
   "cell_type": "markdown",
   "metadata": {},
   "source": [
    "The `freq` you pass in to `resample` is pretty flexible."
   ]
  },
  {
   "cell_type": "code",
   "execution_count": 37,
   "metadata": {
    "collapsed": false
   },
   "outputs": [
    {
     "data": {
      "text/plain": [
       "2009-10-05 21:31:48    3326\n",
       "2009-10-10 21:31:48    3172\n",
       "2009-10-15 21:31:48    3203\n",
       "2009-10-20 21:31:48    1838\n",
       "2009-10-25 21:31:48    2697\n",
       "                       ... \n",
       "2010-02-12 21:31:48    3736\n",
       "2010-02-17 21:31:48    3577\n",
       "2010-02-22 21:31:48    3402\n",
       "2010-02-27 21:31:48    3292\n",
       "2010-03-04 21:31:48    1529\n",
       "Freq: 5D, dtype: int64"
      ]
     },
     "execution_count": 37,
     "metadata": {},
     "output_type": "execute_result"
    }
   ],
   "source": [
    "review_times.resample('5D', how='sum')"
   ]
  },
  {
   "cell_type": "code",
   "execution_count": 38,
   "metadata": {
    "collapsed": false
   },
   "outputs": [
    {
     "data": {
      "text/plain": [
       "<matplotlib.axes._subplots.AxesSubplot at 0x10991e048>"
      ]
     },
     "execution_count": 38,
     "metadata": {},
     "output_type": "execute_result"
    },
    {
     "data": {
      "image/png": "[encoded data removed]",
      "text/plain": [
       "<matplotlib.figure.Figure at 0x109d6c320>"
      ]
     },
     "metadata": {},
     "output_type": "display_data"
    }
   ],
   "source": [
    "c = review_times.resample('3H', how='sum')\n",
    "ax = c.plot(alpha=.5)\n",
    "pd.rolling_mean(c, window=8).plot(ax=ax)\n"
   ]
  },
  {
   "cell_type": "markdown",
   "metadata": {},
   "source": [
    "### Exercise: Plot the number of distinct brewers reviewed per day\n",
    "\n",
    "- Hint: The documentation for `resample` is being worked on, but the `how` in `.resample` is *really* flexible. Try the first thing that comes to mind. What function do you want to apply to get the number of unique values?\n",
    "- Hint2: (Sorry this is harder than I thought). `resample` needs a `DatetimeIndex`. We have datetimes in `time`. If only there was a way to take a column and **set** it as the **index**..."
   ]
  },
  {
   "cell_type": "code",
   "execution_count": null,
   "metadata": {
    "collapsed": false
   },
   "outputs": [],
   "source": [
    "%load -r 33:36 solutions_groupby.py"
   ]
  },
  {
   "cell_type": "markdown",
   "metadata": {},
   "source": [
    "# Aside: Beer Recommender\n",
    "\n",
    "See [Harvard CS109](https://github.com/cs109/content) for a more complete example (with chocolate instead of beer).\n",
    "\n",
    "One place where transform comes in handy is as a preprocessing step for any kind of recommender. In some sense, raw score I assign a beer is less important the the score relative to *my* mean."
   ]
  },
  {
   "cell_type": "code",
   "execution_count": 40,
   "metadata": {
    "collapsed": false
   },
   "outputs": [
    {
     "data": {
      "text/html": [
       "<div>\n",
       "<table border=\"1\" class=\"dataframe\">\n",
       "  <thead>\n",
       "    <tr style=\"text-align: right;\">\n",
       "      <th></th>\n",
       "      <th>beer_id</th>\n",
       "      <th>profile_name</th>\n",
       "      <th>review_overall</th>\n",
       "    </tr>\n",
       "  </thead>\n",
       "  <tbody>\n",
       "    <tr>\n",
       "      <th>0</th>\n",
       "      <td>2511</td>\n",
       "      <td>blaheath</td>\n",
       "      <td>4.5</td>\n",
       "    </tr>\n",
       "    <tr>\n",
       "      <th>1</th>\n",
       "      <td>19736</td>\n",
       "      <td>GJ40</td>\n",
       "      <td>4.5</td>\n",
       "    </tr>\n",
       "    <tr>\n",
       "      <th>2</th>\n",
       "      <td>11098</td>\n",
       "      <td>biegaman</td>\n",
       "      <td>3.0</td>\n",
       "    </tr>\n",
       "    <tr>\n",
       "      <th>3</th>\n",
       "      <td>28577</td>\n",
       "      <td>nick76</td>\n",
       "      <td>4.0</td>\n",
       "    </tr>\n",
       "    <tr>\n",
       "      <th>4</th>\n",
       "      <td>398</td>\n",
       "      <td>champ103</td>\n",
       "      <td>4.0</td>\n",
       "    </tr>\n",
       "  </tbody>\n",
       "</table>\n",
       "</div>"
      ],
      "text/plain": [
       "   beer_id profile_name  review_overall\n",
       "0     2511     blaheath             4.5\n",
       "1    19736         GJ40             4.5\n",
       "2    11098     biegaman             3.0\n",
       "3    28577       nick76             4.0\n",
       "4      398     champ103             4.0"
      ]
     },
     "execution_count": 40,
     "metadata": {},
     "output_type": "execute_result"
    }
   ],
   "source": [
    "deduped = df[['beer_id', 'profile_name', 'review_overall']].drop_duplicates()\n",
    "deduped.head()"
   ]
  },
  {
   "cell_type": "code",
   "execution_count": 41,
   "metadata": {
    "collapsed": false
   },
   "outputs": [],
   "source": [
    "user_counts = deduped.profile_name.value_counts()\n",
    "top_users = user_counts[user_counts > user_counts.quantile(.75)].index"
   ]
  },
  {
   "cell_type": "code",
   "execution_count": 42,
   "metadata": {
    "collapsed": false
   },
   "outputs": [],
   "source": [
    "beer_counts = deduped.beer_id.value_counts()\n",
    "top_beers = beer_counts[beer_counts > beer_counts.quantile(.9)].index"
   ]
  },
  {
   "cell_type": "code",
   "execution_count": 43,
   "metadata": {
    "collapsed": false
   },
   "outputs": [],
   "source": [
    "top = deduped.query('beer_id in @top_beers and profile_name in @top_users')\n",
    "user_means = top.groupby('profile_name').review_overall.mean()\n",
    "beer_means = top.groupby('beer_id').review_overall.mean()\n"
   ]
  },
  {
   "cell_type": "code",
   "execution_count": 44,
   "metadata": {
    "collapsed": false
   },
   "outputs": [
    {
     "data": {
      "text/plain": [
       "<matplotlib.text.Text at 0x10fbf7f60>"
      ]
     },
     "execution_count": 44,
     "metadata": {},
     "output_type": "execute_result"
    },
    {
     "data": {
      "image/png": "[encoded data removed]",
      "text/plain": [
       "<matplotlib.figure.Figure at 0x109de39e8>"
      ]
     },
     "metadata": {},
     "output_type": "display_data"
    }
   ],
   "source": [
    "fig, axes = plt.subplots(figsize=(16, 4), ncols=2, sharey=True, sharex=True)\n",
    "\n",
    "sns.distplot(user_means, kde=False, ax=axes[0], color='k', norm_hist=True, hist_kws={'alpha': 1})\n",
    "sns.distplot(beer_means, kde=False, ax=axes[1], color='k', norm_hist=True, hist_kws={'alpha': 1})\n",
    "axes[0].set_title(\"User Averages\")\n",
    "axes[1].set_title(\"Beer Averages\")"
   ]
  },
  {
   "cell_type": "code",
   "execution_count": 45,
   "metadata": {
    "collapsed": false
   },
   "outputs": [
    {
     "data": {
      "text/plain": [
       "beer_id  profile_name  \n",
       "5        Ek0nomik          3.0\n",
       "         HalfFull          4.5\n",
       "         Jesstyr           4.0\n",
       "         JordonHoltzman    4.0\n",
       "         KTCamm            4.0\n",
       "Name: review_overall, dtype: float64"
      ]
     },
     "execution_count": 45,
     "metadata": {},
     "output_type": "execute_result"
    }
   ],
   "source": [
    "s = top.set_index(['beer_id', 'profile_name']).review_overall.sort_index()\n",
    "s.head()"
   ]
  },
  {
   "cell_type": "markdown",
   "metadata": {},
   "source": [
    "###  `de_mean` the scores in `s`"
   ]
  },
  {
   "cell_type": "code",
   "execution_count": 46,
   "metadata": {
    "collapsed": false
   },
   "outputs": [
    {
     "data": {
      "text/plain": [
       "beer_id  profile_name  \n",
       "5        Ek0nomik         -0.857143\n",
       "         HalfFull          0.789474\n",
       "         Jesstyr           0.233333\n",
       "         JordonHoltzman    0.222222\n",
       "         KTCamm            0.166667\n",
       "Name: review_overall, dtype: float64"
      ]
     },
     "execution_count": 46,
     "metadata": {},
     "output_type": "execute_result"
    }
   ],
   "source": [
    "standardized = s.groupby(level='profile_name').transform(de_mean)\n",
    "standardized.head()"
   ]
  },
  {
   "cell_type": "code",
   "execution_count": 47,
   "metadata": {
    "collapsed": true
   },
   "outputs": [],
   "source": [
    "from scipy.stats import pearsonr"
   ]
  },
  {
   "cell_type": "code",
   "execution_count": 48,
   "metadata": {
    "collapsed": true
   },
   "outputs": [],
   "source": [
    "def pearson_sim(reviews_1, reviews_2, reg=2):\n",
    "    \"\"\"\n",
    "    (regularized) Pearson correlation coefficient between sets\n",
    "    of reviews for two beers, made by a common subset\n",
    "    of reviewers.\n",
    "    \n",
    "    `reviews_1` and `reviews_2` should be have the same index,\n",
    "    the `profile_name`s of people who reviewed both beers.\n",
    "    \"\"\"\n",
    "    n_common = len(reviews_1)\n",
    "    if n_common == 0:\n",
    "        similarity = 0\n",
    "    else:\n",
    "        rho = pearsonr(reviews_1, reviews_2)[0]\n",
    "        similarity = (n_common * rho) / (n_common + reg)  # regularization if few reviews\n",
    "    return similarity, n_common"
   ]
  },
  {
   "cell_type": "code",
   "execution_count": 49,
   "metadata": {
    "collapsed": false
   },
   "outputs": [],
   "source": [
    "def beer_similarity(standardized, beer_1, beer_2, simfunc=pearson_sim, **simfunc_kwargs):\n",
    "    \"\"\"\n",
    "    Compute the similarity between two beers.\n",
    "    \"\"\"\n",
    "    # get common subset...\n",
    "    reviewers_1 = standardized.loc[beer_1].index\n",
    "    reviewers_2 = standardized.loc[beer_2].index\n",
    "    common_idx = reviewers_1 & reviewers_2  # set intersection\n",
    "\n",
    "    # slice the Multiindex, unstack to be N x 2\n",
    "    common_reviews = standardized.loc[[beer_1, beer_2], common_idx].unstack('beer_id')\n",
    "    # ... review similairty for subset\n",
    "    rho, n_common = simfunc(common_reviews[beer_1], common_reviews[beer_2], **simfunc_kwargs)\n",
    "    return rho, n_common"
   ]
  },
  {
   "cell_type": "code",
   "execution_count": 50,
   "metadata": {
    "collapsed": false
   },
   "outputs": [
    {
     "data": {
      "text/plain": [
       "1266"
      ]
     },
     "execution_count": 50,
     "metadata": {},
     "output_type": "execute_result"
    }
   ],
   "source": [
    "beer_ids = s.index.levels[0]\n",
    "len(beer_ids)"
   ]
  },
  {
   "cell_type": "code",
   "execution_count": 51,
   "metadata": {
    "collapsed": false
   },
   "outputs": [
    {
     "data": {
      "text/plain": [
       "(0.58989530654977695, 3)"
      ]
     },
     "execution_count": 51,
     "metadata": {},
     "output_type": "execute_result"
    }
   ],
   "source": [
    "beer_similarity(standardized, beer_ids[0], beer_ids[10])"
   ]
  },
  {
   "cell_type": "code",
   "execution_count": 509,
   "metadata": {
    "collapsed": false
   },
   "outputs": [
    {
     "name": "stdout",
     "output_type": "stream",
     "text": [
      "CPU times: user 51min 33s, sys: 50.4 s, total: 52min 24s\n",
      "Wall time: 53min 7s\n"
     ]
    }
   ],
   "source": [
    "%%time\n",
    "sims = []\n",
    "\n",
    "for i, beer_1 in enumerate(beer_ids):\n",
    "    for j, beer_2 in enumerate(beer_ids):\n",
    "        if j >= i:\n",
    "            continue\n",
    "        sim, n_common = beer_similarity(s, beer_1, beer_2)\n",
    "        sims.append((beer_1, beer_2, sim, n_common))\n",
    "        print((i, j), end='\\r')\n",
    "        \n",
    "sim = pd.DataFrame(sims, columns=['beer_1', 'beer_2', 'score', 'n_common'])\n",
    "sim.to_csv('beer_subset_similarity.csv', index=False)"
   ]
  },
  {
   "cell_type": "code",
   "execution_count": 53,
   "metadata": {
    "collapsed": false
   },
   "outputs": [
    {
     "data": {
      "text/html": [
       "<div>\n",
       "<table border=\"1\" class=\"dataframe\">\n",
       "  <thead>\n",
       "    <tr style=\"text-align: right;\">\n",
       "      <th></th>\n",
       "      <th>beer_1</th>\n",
       "      <th>beer_2</th>\n",
       "      <th>score</th>\n",
       "      <th>n_common</th>\n",
       "    </tr>\n",
       "  </thead>\n",
       "  <tbody>\n",
       "    <tr>\n",
       "      <th>0</th>\n",
       "      <td>6</td>\n",
       "      <td>5</td>\n",
       "      <td>0.306201</td>\n",
       "      <td>11</td>\n",
       "    </tr>\n",
       "    <tr>\n",
       "      <th>1</th>\n",
       "      <td>7</td>\n",
       "      <td>5</td>\n",
       "      <td>0.385503</td>\n",
       "      <td>6</td>\n",
       "    </tr>\n",
       "    <tr>\n",
       "      <th>2</th>\n",
       "      <td>7</td>\n",
       "      <td>6</td>\n",
       "      <td>0.553703</td>\n",
       "      <td>8</td>\n",
       "    </tr>\n",
       "    <tr>\n",
       "      <th>3</th>\n",
       "      <td>10</td>\n",
       "      <td>5</td>\n",
       "      <td>0.500000</td>\n",
       "      <td>2</td>\n",
       "    </tr>\n",
       "    <tr>\n",
       "      <th>4</th>\n",
       "      <td>10</td>\n",
       "      <td>6</td>\n",
       "      <td>NaN</td>\n",
       "      <td>1</td>\n",
       "    </tr>\n",
       "  </tbody>\n",
       "</table>\n",
       "</div>"
      ],
      "text/plain": [
       "   beer_1  beer_2     score  n_common\n",
       "0       6       5  0.306201        11\n",
       "1       7       5  0.385503         6\n",
       "2       7       6  0.553703         8\n",
       "3      10       5  0.500000         2\n",
       "4      10       6       NaN         1"
      ]
     },
     "execution_count": 53,
     "metadata": {},
     "output_type": "execute_result"
    }
   ],
   "source": [
    "sim = pd.read_csv('beer_subset_similarity.csv.gz')\n",
    "sim.head()"
   ]
  },
  {
   "cell_type": "code",
   "execution_count": 61,
   "metadata": {
    "collapsed": false
   },
   "outputs": [
    {
     "data": {
      "text/plain": [
       "<matplotlib.axes._subplots.AxesSubplot at 0x10b7ea0f0>"
      ]
     },
     "execution_count": 61,
     "metadata": {},
     "output_type": "execute_result"
    },
    {
     "data": {
      "image/png": "[encoded data removed]",
      "text/plain": [
       "<matplotlib.figure.Figure at 0x10efd8e48>"
      ]
     },
     "metadata": {},
     "output_type": "display_data"
    }
   ],
   "source": [
    "sns.kdeplot(sim[sim.score != 0].dropna().score)"
   ]
  },
  {
   "cell_type": "code",
   "execution_count": 62,
   "metadata": {
    "collapsed": true
   },
   "outputs": [],
   "source": [
    "sim = sim.set_index(['beer_1', 'beer_2']).score"
   ]
  },
  {
   "cell_type": "code",
   "execution_count": 63,
   "metadata": {
    "collapsed": false
   },
   "outputs": [
    {
     "data": {
      "text/plain": [
       "beer_2\n",
       "1632     0.684993\n",
       "2948     0.666667\n",
       "5441     0.666667\n",
       "16520    0.656113\n",
       "1445     0.618115\n",
       "Name: score, dtype: float64"
      ]
     },
     "execution_count": 63,
     "metadata": {},
     "output_type": "execute_result"
    }
   ],
   "source": [
    "sim.loc[21690].nlargest(5)"
   ]
  }
 ],
 "metadata": {
  "kernelspec": {
   "display_name": "Python 2",
   "language": "python",
   "name": "python2"
  },
  "language_info": {
   "codemirror_mode": {
    "name": "ipython",
    "version": 2
   },
   "file_extension": ".py",
   "mimetype": "text/x-python",
   "name": "python",
   "nbconvert_exporter": "python",
   "pygments_lexer": "ipython2",
   "version": "2.7.10"
  }
 },
 "nbformat": 4,
 "nbformat_minor": 0
}
